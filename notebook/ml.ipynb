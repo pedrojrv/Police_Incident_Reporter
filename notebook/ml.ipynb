{
 "cells": [
  {
   "cell_type": "code",
   "execution_count": 28,
   "metadata": {
    "ExecuteTime": {
     "end_time": "2021-01-21T20:20:13.096155Z",
     "start_time": "2021-01-21T20:20:13.003876Z"
    }
   },
   "outputs": [],
   "source": [
    "import pandas as pd\n",
    "import matplotlib.pyplot as plt\n",
    "from sklearn.metrics import mean_absolute_error\n",
    "import seaborn as sns"
   ]
  },
  {
   "cell_type": "code",
   "execution_count": 29,
   "metadata": {
    "ExecuteTime": {
     "end_time": "2021-01-21T20:20:29.824186Z",
     "start_time": "2021-01-21T20:20:29.820185Z"
    }
   },
   "outputs": [],
   "source": [
    "sns.set(style=\"white\", font_scale=2.5)"
   ]
  },
  {
   "cell_type": "code",
   "execution_count": 2,
   "metadata": {
    "ExecuteTime": {
     "end_time": "2021-01-21T20:17:41.397679Z",
     "start_time": "2021-01-21T20:17:41.394678Z"
    }
   },
   "outputs": [],
   "source": [
    "# This cell was ran once and the data was saved into a csv\n",
    "# results_ml = client.get(\"wg3w-h783\", limit=500000, order=\"incident_date DESC\")\n",
    "# df = pd.DataFrame.from_records(results_ml)\n",
    "# df.to_csv(\"sfpd_reports.csv\", index=False)"
   ]
  },
  {
   "cell_type": "code",
   "execution_count": 3,
   "metadata": {
    "ExecuteTime": {
     "end_time": "2021-01-21T20:17:44.343826Z",
     "start_time": "2021-01-21T20:17:41.399679Z"
    }
   },
   "outputs": [],
   "source": [
    "df = pd.read_csv(\"sfpd_reports.csv\")"
   ]
  },
  {
   "cell_type": "markdown",
   "metadata": {},
   "source": [
    "First we make remove any rows with missing data:"
   ]
  },
  {
   "cell_type": "code",
   "execution_count": 4,
   "metadata": {
    "ExecuteTime": {
     "end_time": "2021-01-21T20:17:45.191970Z",
     "start_time": "2021-01-21T20:17:44.344827Z"
    }
   },
   "outputs": [],
   "source": [
    "df['incident_datetime'] = pd.to_datetime(df['incident_datetime'])\n",
    "df = df[~df['incident_category'].isnull()]\n",
    "df = df[~df['latitude'].isnull()]\n",
    "df = df[~df['police_district'].isnull()]\n",
    "df = df[[\"incident_datetime\", \"incident_day_of_week\", \"police_district\", \"incident_category\"]]"
   ]
  },
  {
   "cell_type": "markdown",
   "metadata": {},
   "source": [
    "We want to predict the daily crime rate so we group the response by date. In other words, we resample the dataframe into one day bins."
   ]
  },
  {
   "cell_type": "code",
   "execution_count": 5,
   "metadata": {
    "ExecuteTime": {
     "end_time": "2021-01-21T20:17:45.503125Z",
     "start_time": "2021-01-21T20:17:45.192961Z"
    }
   },
   "outputs": [],
   "source": [
    "group_by_pd = df.copy()\n",
    "group_by_pd[\"Count\"] = 1\n",
    "group_by_pd = group_by_pd.set_index(group_by_pd[\"incident_datetime\"]).drop(columns=[\"incident_datetime\"])\n",
    "group_by_pd = group_by_pd.groupby(['police_district']).resample('1D').sum()\n",
    "group_by_pd = group_by_pd.reset_index()"
   ]
  },
  {
   "cell_type": "code",
   "execution_count": 6,
   "metadata": {
    "ExecuteTime": {
     "end_time": "2021-01-21T20:17:45.507117Z",
     "start_time": "2021-01-21T20:17:45.504116Z"
    }
   },
   "outputs": [],
   "source": [
    "X = group_by_pd.copy()"
   ]
  },
  {
   "cell_type": "markdown",
   "metadata": {},
   "source": [
    "## Feature Engineering\n",
    "\n",
    "Here, we one-hot encode the police district feature and create a feature for both the day and month:"
   ]
  },
  {
   "cell_type": "code",
   "execution_count": 7,
   "metadata": {
    "ExecuteTime": {
     "end_time": "2021-01-21T20:17:45.516128Z",
     "start_time": "2021-01-21T20:17:45.509118Z"
    }
   },
   "outputs": [],
   "source": [
    "X = pd.concat([X, pd.get_dummies(X[\"police_district\"])], axis=1).drop(columns=[\"police_district\"])"
   ]
  },
  {
   "cell_type": "code",
   "execution_count": 8,
   "metadata": {
    "ExecuteTime": {
     "end_time": "2021-01-21T20:17:45.536730Z",
     "start_time": "2021-01-21T20:17:45.517119Z"
    }
   },
   "outputs": [],
   "source": [
    "# X['year'] = pd.to_datetime(X['incident_datetime']).dt.year\n",
    "X['month'] = pd.to_datetime(X['incident_datetime']).dt.month\n",
    "X['day'] = pd.to_datetime(X['incident_datetime']).dt.day"
   ]
  },
  {
   "cell_type": "markdown",
   "metadata": {},
   "source": [
    "Given that the latest incidents will be approved later in the future we cannot use the last days as training data."
   ]
  },
  {
   "cell_type": "code",
   "execution_count": 9,
   "metadata": {
    "ExecuteTime": {
     "end_time": "2021-01-21T20:17:45.540721Z",
     "start_time": "2021-01-21T20:17:45.537720Z"
    }
   },
   "outputs": [],
   "source": [
    "X = X.iloc[:-10]"
   ]
  },
  {
   "cell_type": "code",
   "execution_count": 10,
   "metadata": {
    "ExecuteTime": {
     "end_time": "2021-01-21T20:17:45.546722Z",
     "start_time": "2021-01-21T20:17:45.541721Z"
    }
   },
   "outputs": [],
   "source": [
    "y = X[[\"Count\"]]\n",
    "X = X.drop(['incident_datetime', \"Count\"], axis=1)"
   ]
  },
  {
   "cell_type": "code",
   "execution_count": 11,
   "metadata": {
    "ExecuteTime": {
     "end_time": "2021-01-21T20:17:45.553724Z",
     "start_time": "2021-01-21T20:17:45.547723Z"
    }
   },
   "outputs": [
    {
     "data": {
      "text/plain": [
       "(12250, 13)"
      ]
     },
     "execution_count": 11,
     "metadata": {},
     "output_type": "execute_result"
    }
   ],
   "source": [
    "X.shape"
   ]
  },
  {
   "cell_type": "code",
   "execution_count": 12,
   "metadata": {
    "ExecuteTime": {
     "end_time": "2021-01-21T20:17:45.568728Z",
     "start_time": "2021-01-21T20:17:45.554725Z"
    }
   },
   "outputs": [],
   "source": [
    "from sklearn.model_selection import train_test_split"
   ]
  },
  {
   "cell_type": "code",
   "execution_count": 13,
   "metadata": {
    "ExecuteTime": {
     "end_time": "2021-01-21T20:17:45.576731Z",
     "start_time": "2021-01-21T20:17:45.569728Z"
    }
   },
   "outputs": [],
   "source": [
    "X_train, X_test, y_train, y_test = train_test_split(\n",
    "    X, y, test_size=0.30, random_state=42)"
   ]
  },
  {
   "cell_type": "code",
   "execution_count": 14,
   "metadata": {
    "ExecuteTime": {
     "end_time": "2021-01-21T20:17:45.593733Z",
     "start_time": "2021-01-21T20:17:45.577729Z"
    }
   },
   "outputs": [
    {
     "data": {
      "text/html": [
       "<div>\n",
       "<style scoped>\n",
       "    .dataframe tbody tr th:only-of-type {\n",
       "        vertical-align: middle;\n",
       "    }\n",
       "\n",
       "    .dataframe tbody tr th {\n",
       "        vertical-align: top;\n",
       "    }\n",
       "\n",
       "    .dataframe thead th {\n",
       "        text-align: right;\n",
       "    }\n",
       "</style>\n",
       "<table border=\"1\" class=\"dataframe\">\n",
       "  <thead>\n",
       "    <tr style=\"text-align: right;\">\n",
       "      <th></th>\n",
       "      <th>Bayview</th>\n",
       "      <th>Central</th>\n",
       "      <th>Ingleside</th>\n",
       "      <th>Mission</th>\n",
       "      <th>Northern</th>\n",
       "      <th>Out of SF</th>\n",
       "      <th>Park</th>\n",
       "      <th>Richmond</th>\n",
       "      <th>Southern</th>\n",
       "      <th>Taraval</th>\n",
       "      <th>Tenderloin</th>\n",
       "      <th>month</th>\n",
       "      <th>day</th>\n",
       "    </tr>\n",
       "  </thead>\n",
       "  <tbody>\n",
       "    <tr>\n",
       "      <th>4738</th>\n",
       "      <td>0</td>\n",
       "      <td>0</td>\n",
       "      <td>0</td>\n",
       "      <td>0</td>\n",
       "      <td>1</td>\n",
       "      <td>0</td>\n",
       "      <td>0</td>\n",
       "      <td>0</td>\n",
       "      <td>0</td>\n",
       "      <td>0</td>\n",
       "      <td>0</td>\n",
       "      <td>10</td>\n",
       "      <td>6</td>\n",
       "    </tr>\n",
       "    <tr>\n",
       "      <th>10664</th>\n",
       "      <td>0</td>\n",
       "      <td>0</td>\n",
       "      <td>0</td>\n",
       "      <td>0</td>\n",
       "      <td>0</td>\n",
       "      <td>0</td>\n",
       "      <td>0</td>\n",
       "      <td>0</td>\n",
       "      <td>0</td>\n",
       "      <td>1</td>\n",
       "      <td>0</td>\n",
       "      <td>9</td>\n",
       "      <td>27</td>\n",
       "    </tr>\n",
       "    <tr>\n",
       "      <th>6286</th>\n",
       "      <td>0</td>\n",
       "      <td>0</td>\n",
       "      <td>0</td>\n",
       "      <td>0</td>\n",
       "      <td>0</td>\n",
       "      <td>1</td>\n",
       "      <td>0</td>\n",
       "      <td>0</td>\n",
       "      <td>0</td>\n",
       "      <td>0</td>\n",
       "      <td>0</td>\n",
       "      <td>12</td>\n",
       "      <td>13</td>\n",
       "    </tr>\n",
       "    <tr>\n",
       "      <th>4785</th>\n",
       "      <td>0</td>\n",
       "      <td>0</td>\n",
       "      <td>0</td>\n",
       "      <td>0</td>\n",
       "      <td>1</td>\n",
       "      <td>0</td>\n",
       "      <td>0</td>\n",
       "      <td>0</td>\n",
       "      <td>0</td>\n",
       "      <td>0</td>\n",
       "      <td>0</td>\n",
       "      <td>11</td>\n",
       "      <td>22</td>\n",
       "    </tr>\n",
       "    <tr>\n",
       "      <th>9858</th>\n",
       "      <td>0</td>\n",
       "      <td>0</td>\n",
       "      <td>0</td>\n",
       "      <td>0</td>\n",
       "      <td>0</td>\n",
       "      <td>0</td>\n",
       "      <td>0</td>\n",
       "      <td>0</td>\n",
       "      <td>1</td>\n",
       "      <td>0</td>\n",
       "      <td>0</td>\n",
       "      <td>8</td>\n",
       "      <td>1</td>\n",
       "    </tr>\n",
       "    <tr>\n",
       "      <th>...</th>\n",
       "      <td>...</td>\n",
       "      <td>...</td>\n",
       "      <td>...</td>\n",
       "      <td>...</td>\n",
       "      <td>...</td>\n",
       "      <td>...</td>\n",
       "      <td>...</td>\n",
       "      <td>...</td>\n",
       "      <td>...</td>\n",
       "      <td>...</td>\n",
       "      <td>...</td>\n",
       "      <td>...</td>\n",
       "      <td>...</td>\n",
       "    </tr>\n",
       "    <tr>\n",
       "      <th>11964</th>\n",
       "      <td>0</td>\n",
       "      <td>0</td>\n",
       "      <td>0</td>\n",
       "      <td>0</td>\n",
       "      <td>0</td>\n",
       "      <td>0</td>\n",
       "      <td>0</td>\n",
       "      <td>0</td>\n",
       "      <td>0</td>\n",
       "      <td>0</td>\n",
       "      <td>1</td>\n",
       "      <td>3</td>\n",
       "      <td>30</td>\n",
       "    </tr>\n",
       "    <tr>\n",
       "      <th>5191</th>\n",
       "      <td>0</td>\n",
       "      <td>0</td>\n",
       "      <td>0</td>\n",
       "      <td>0</td>\n",
       "      <td>1</td>\n",
       "      <td>0</td>\n",
       "      <td>0</td>\n",
       "      <td>0</td>\n",
       "      <td>0</td>\n",
       "      <td>0</td>\n",
       "      <td>0</td>\n",
       "      <td>1</td>\n",
       "      <td>2</td>\n",
       "    </tr>\n",
       "    <tr>\n",
       "      <th>5390</th>\n",
       "      <td>0</td>\n",
       "      <td>0</td>\n",
       "      <td>0</td>\n",
       "      <td>0</td>\n",
       "      <td>1</td>\n",
       "      <td>0</td>\n",
       "      <td>0</td>\n",
       "      <td>0</td>\n",
       "      <td>0</td>\n",
       "      <td>0</td>\n",
       "      <td>0</td>\n",
       "      <td>7</td>\n",
       "      <td>19</td>\n",
       "    </tr>\n",
       "    <tr>\n",
       "      <th>860</th>\n",
       "      <td>1</td>\n",
       "      <td>0</td>\n",
       "      <td>0</td>\n",
       "      <td>0</td>\n",
       "      <td>0</td>\n",
       "      <td>0</td>\n",
       "      <td>0</td>\n",
       "      <td>0</td>\n",
       "      <td>0</td>\n",
       "      <td>0</td>\n",
       "      <td>0</td>\n",
       "      <td>5</td>\n",
       "      <td>10</td>\n",
       "    </tr>\n",
       "    <tr>\n",
       "      <th>7270</th>\n",
       "      <td>0</td>\n",
       "      <td>0</td>\n",
       "      <td>0</td>\n",
       "      <td>0</td>\n",
       "      <td>0</td>\n",
       "      <td>0</td>\n",
       "      <td>1</td>\n",
       "      <td>0</td>\n",
       "      <td>0</td>\n",
       "      <td>0</td>\n",
       "      <td>0</td>\n",
       "      <td>8</td>\n",
       "      <td>9</td>\n",
       "    </tr>\n",
       "  </tbody>\n",
       "</table>\n",
       "<p>8575 rows × 13 columns</p>\n",
       "</div>"
      ],
      "text/plain": [
       "       Bayview  Central  Ingleside  Mission  Northern  Out of SF  Park  \\\n",
       "4738         0        0          0        0         1          0     0   \n",
       "10664        0        0          0        0         0          0     0   \n",
       "6286         0        0          0        0         0          1     0   \n",
       "4785         0        0          0        0         1          0     0   \n",
       "9858         0        0          0        0         0          0     0   \n",
       "...        ...      ...        ...      ...       ...        ...   ...   \n",
       "11964        0        0          0        0         0          0     0   \n",
       "5191         0        0          0        0         1          0     0   \n",
       "5390         0        0          0        0         1          0     0   \n",
       "860          1        0          0        0         0          0     0   \n",
       "7270         0        0          0        0         0          0     1   \n",
       "\n",
       "       Richmond  Southern  Taraval  Tenderloin  month  day  \n",
       "4738          0         0        0           0     10    6  \n",
       "10664         0         0        1           0      9   27  \n",
       "6286          0         0        0           0     12   13  \n",
       "4785          0         0        0           0     11   22  \n",
       "9858          0         1        0           0      8    1  \n",
       "...         ...       ...      ...         ...    ...  ...  \n",
       "11964         0         0        0           1      3   30  \n",
       "5191          0         0        0           0      1    2  \n",
       "5390          0         0        0           0      7   19  \n",
       "860           0         0        0           0      5   10  \n",
       "7270          0         0        0           0      8    9  \n",
       "\n",
       "[8575 rows x 13 columns]"
      ]
     },
     "execution_count": 14,
     "metadata": {},
     "output_type": "execute_result"
    }
   ],
   "source": [
    "X_train"
   ]
  },
  {
   "cell_type": "markdown",
   "metadata": {},
   "source": [
    "## Training a DT Regressor\n",
    "\n",
    "Here we use the scikit-learn implementation to train a DT model."
   ]
  },
  {
   "cell_type": "code",
   "execution_count": 15,
   "metadata": {
    "ExecuteTime": {
     "end_time": "2021-01-21T20:17:49.753744Z",
     "start_time": "2021-01-21T20:17:49.667673Z"
    }
   },
   "outputs": [],
   "source": [
    "from sklearn.tree import DecisionTreeRegressor\n",
    "from sklearn.metrics import mean_absolute_error\n",
    "import numpy as np\n",
    "from sklearn.pipeline import make_pipeline\n",
    "from sklearn.preprocessing import StandardScaler\n",
    "from sklearn.pipeline import Pipeline\n",
    "from sklearn.model_selection import GridSearchCV"
   ]
  },
  {
   "cell_type": "code",
   "execution_count": 16,
   "metadata": {
    "ExecuteTime": {
     "end_time": "2021-01-21T20:17:50.614395Z",
     "start_time": "2021-01-21T20:17:50.611394Z"
    }
   },
   "outputs": [],
   "source": [
    "scoring = {'MAE': 'neg_mean_absolute_error', 'MSE': 'neg_mean_squared_error'}"
   ]
  },
  {
   "cell_type": "code",
   "execution_count": 17,
   "metadata": {
    "ExecuteTime": {
     "end_time": "2021-01-21T20:17:55.605167Z",
     "start_time": "2021-01-21T20:17:51.275700Z"
    }
   },
   "outputs": [
    {
     "name": "stdout",
     "output_type": "stream",
     "text": [
      "Best parameter (CV score=-7.846):\n",
      "{'max_depth': 9, 'min_samples_split': 4}\n"
     ]
    }
   ],
   "source": [
    "dtr = DecisionTreeRegressor()\n",
    "\n",
    "\n",
    "# Parameters of pipelines can be set using ‘__’ separated parameter names:\n",
    "parameters_dt = {\n",
    "    'max_depth':np.linspace(1, 20, 20).astype(int), \n",
    "    'min_samples_split':[2, 3, 4]\n",
    "}\n",
    "\n",
    "\n",
    "search_dt = GridSearchCV(dtr, parameters_dt, scoring=scoring, refit='MAE', n_jobs=-1, cv=None, return_train_score=True)\n",
    "search_dt.fit(X_train, y_train)\n",
    "# search_dt.fit(X, y)\n",
    "print(\"Best parameter (CV score=%0.3f):\" % search_dt.best_score_)\n",
    "print(search_dt.best_params_)"
   ]
  },
  {
   "cell_type": "code",
   "execution_count": 18,
   "metadata": {
    "ExecuteTime": {
     "end_time": "2021-01-21T20:17:55.613168Z",
     "start_time": "2021-01-21T20:17:55.607167Z"
    }
   },
   "outputs": [],
   "source": [
    "DT_RESULTS = pd.DataFrame(search_dt.cv_results_)"
   ]
  },
  {
   "cell_type": "code",
   "execution_count": 19,
   "metadata": {
    "ExecuteTime": {
     "end_time": "2021-01-21T20:17:56.567782Z",
     "start_time": "2021-01-21T20:17:56.554772Z"
    }
   },
   "outputs": [
    {
     "name": "stdout",
     "output_type": "stream",
     "text": [
      "Train MAE: 7.453653117176461\n",
      "Test MAE: 7.862959066077534\n",
      "\n"
     ]
    }
   ],
   "source": [
    "mae_train = mean_absolute_error(y_train, search_dt.predict(X_train))\n",
    "mae_test = mean_absolute_error(y_test, search_dt.predict(X_test))\n",
    "print(\"Train MAE: {}\".format(mae_train))\n",
    "print(\"Test MAE: {}\\n\".format(mae_test))"
   ]
  },
  {
   "cell_type": "code",
   "execution_count": 41,
   "metadata": {
    "ExecuteTime": {
     "end_time": "2021-01-21T20:27:21.232827Z",
     "start_time": "2021-01-21T20:27:18.870141Z"
    }
   },
   "outputs": [
    {
     "data": {
      "image/png": "[encoded data removed]",
      "text/plain": [
       "<Figure size 1008x576 with 1 Axes>"
      ]
     },
     "metadata": {},
     "output_type": "display_data"
    }
   ],
   "source": [
    "plt.figure(figsize=(14,8))\n",
    "plt.plot(DT_RESULTS.param_max_depth.astype(int), -1*DT_RESULTS.mean_train_MAE, label=\"Train Set\")\n",
    "plt.plot(DT_RESULTS.param_max_depth.astype(int), -1*DT_RESULTS.mean_test_MAE, label=\"Test Set\")\n",
    "plt.xlabel(\"Max Depth\")\n",
    "plt.ylabel(\"MAE (crime rate per day)\")\n",
    "plt.legend()\n",
    "plt.savefig(\"figures/dt_training.png\", bbox_inches='tight', dpi=600)"
   ]
  },
  {
   "cell_type": "markdown",
   "metadata": {},
   "source": [
    "## Train a SVM Model"
   ]
  },
  {
   "cell_type": "code",
   "execution_count": 35,
   "metadata": {
    "ExecuteTime": {
     "end_time": "2021-01-21T20:22:49.576418Z",
     "start_time": "2021-01-21T20:22:49.572416Z"
    }
   },
   "outputs": [],
   "source": [
    "from sklearn.svm import SVR"
   ]
  },
  {
   "cell_type": "code",
   "execution_count": 36,
   "metadata": {
    "ExecuteTime": {
     "end_time": "2021-01-21T20:23:08.074702Z",
     "start_time": "2021-01-21T20:22:49.780210Z"
    }
   },
   "outputs": [
    {
     "name": "stderr",
     "output_type": "stream",
     "text": [
      "C:\\Users\\Pedro\\Anaconda3\\envs\\tf_nightly\\lib\\site-packages\\sklearn\\utils\\validation.py:72: DataConversionWarning: A column-vector y was passed when a 1d array was expected. Please change the shape of y to (n_samples, ), for example using ravel().\n",
      "  return f(**kwargs)\n"
     ]
    },
    {
     "name": "stdout",
     "output_type": "stream",
     "text": [
      "Best parameter (CV score=-7.637):\n",
      "{'svm__C': 100, 'svm__coef0': 3, 'svm__degree': 3, 'svm__kernel': 'poly'}\n"
     ]
    }
   ],
   "source": [
    "svr = SVR()\n",
    "std = StandardScaler()\n",
    "\n",
    "pipe_svr = Pipeline(steps=[('std', std), ('svm', svr)])\n",
    "\n",
    "# Parameters of pipelines can be set using ‘__’ separated parameter names:\n",
    "parameters_svr = {\n",
    "    'svm__kernel':('poly', 'rbf'), \n",
    "    'svm__C':[100], \n",
    "    \"svm__coef0\":[3], \n",
    "    'svm__degree':[3]}\n",
    "\n",
    "\n",
    "search_svr = GridSearchCV(pipe_svr, parameters_svr, scoring=scoring, refit='MAE', n_jobs=-1, cv=None, return_train_score=True)\n",
    "search_svr.fit(X_train, y_train)\n",
    "# search_svr.fit(X, y)\n",
    "print(\"Best parameter (CV score=%0.3f):\" % search_svr.best_score_)\n",
    "print(search_svr.best_params_)"
   ]
  },
  {
   "cell_type": "code",
   "execution_count": 37,
   "metadata": {
    "ExecuteTime": {
     "end_time": "2021-01-21T20:23:09.215629Z",
     "start_time": "2021-01-21T20:23:08.075699Z"
    }
   },
   "outputs": [
    {
     "name": "stdout",
     "output_type": "stream",
     "text": [
      "Train MAE: 7.544628862921769\n",
      "Test MAE: 7.666044208319964\n",
      "\n"
     ]
    }
   ],
   "source": [
    "mae_train = mean_absolute_error(y_train, search_svr.predict(X_train))\n",
    "mae_test = mean_absolute_error(y_test, search_svr.predict(X_test))\n",
    "print(\"Train MAE: {}\".format(mae_train))\n",
    "print(\"Test MAE: {}\\n\".format(mae_test))"
   ]
  },
  {
   "cell_type": "code",
   "execution_count": 38,
   "metadata": {
    "ExecuteTime": {
     "end_time": "2021-01-21T20:27:03.992713Z",
     "start_time": "2021-01-21T20:23:09.217639Z"
    }
   },
   "outputs": [
    {
     "name": "stderr",
     "output_type": "stream",
     "text": [
      "C:\\Users\\Pedro\\Anaconda3\\envs\\tf_nightly\\lib\\site-packages\\sklearn\\utils\\validation.py:72: DataConversionWarning: A column-vector y was passed when a 1d array was expected. Please change the shape of y to (n_samples, ), for example using ravel().\n",
      "  return f(**kwargs)\n"
     ]
    },
    {
     "name": "stdout",
     "output_type": "stream",
     "text": [
      "Best parameter (CV score=-7.633):\n",
      "{'svm__C': 1, 'svm__coef0': 4, 'svm__degree': 4, 'svm__kernel': 'poly'}\n"
     ]
    }
   ],
   "source": [
    "svr = SVR()\n",
    "std = StandardScaler()\n",
    "\n",
    "pipe_svr_all = Pipeline(steps=[('std', std), ('svm', svr)])\n",
    "\n",
    "# Parameters of pipelines can be set using ‘__’ separated parameter names:\n",
    "parameters_svr_all = {\n",
    "    'svm__kernel':('poly', 'rbf'), \n",
    "    'svm__C':[1, 50, 100], \n",
    "    \"svm__coef0\":[2, 3, 4, 5], \n",
    "    'svm__degree':[2, 3, 4]}\n",
    "\n",
    "\n",
    "search_svr_all = GridSearchCV(pipe_svr_all, parameters_svr_all, scoring=scoring, refit='MAE', n_jobs=-1, cv=None, return_train_score=True)\n",
    "search_svr_all.fit(X_train, y_train)\n",
    "# search_svr_all.fit(X, y)\n",
    "print(\"Best parameter (CV score=%0.3f):\" % search_svr_all.best_score_)\n",
    "print(search_svr_all.best_params_)"
   ]
  },
  {
   "cell_type": "code",
   "execution_count": 39,
   "metadata": {
    "ExecuteTime": {
     "end_time": "2021-01-21T20:27:05.219722Z",
     "start_time": "2021-01-21T20:27:03.994713Z"
    }
   },
   "outputs": [
    {
     "name": "stdout",
     "output_type": "stream",
     "text": [
      "Train MAE: 7.53641311396518\n",
      "Test MAE: 7.674502378219805\n",
      "\n"
     ]
    }
   ],
   "source": [
    "mae_train = mean_absolute_error(y_train, search_svr_all.predict(X_train))\n",
    "mae_test = mean_absolute_error(y_test, search_svr_all.predict(X_test))\n",
    "print(\"Train MAE: {}\".format(mae_train))\n",
    "print(\"Test MAE: {}\\n\".format(mae_test))"
   ]
  },
  {
   "cell_type": "code",
   "execution_count": 40,
   "metadata": {
    "ExecuteTime": {
     "end_time": "2021-01-21T20:27:05.226228Z",
     "start_time": "2021-01-21T20:27:05.221714Z"
    }
   },
   "outputs": [],
   "source": [
    "SVM_RESULTS = pd.DataFrame(search_svr_all.cv_results_)"
   ]
  },
  {
   "cell_type": "markdown",
   "metadata": {},
   "source": [
    "## Training a KNN Model"
   ]
  },
  {
   "cell_type": "code",
   "execution_count": 56,
   "metadata": {
    "ExecuteTime": {
     "end_time": "2021-01-21T20:34:36.728690Z",
     "start_time": "2021-01-21T20:34:36.724690Z"
    }
   },
   "outputs": [],
   "source": [
    "from sklearn import neighbors"
   ]
  },
  {
   "cell_type": "code",
   "execution_count": 57,
   "metadata": {
    "ExecuteTime": {
     "end_time": "2021-01-21T20:34:53.455982Z",
     "start_time": "2021-01-21T20:34:36.951581Z"
    }
   },
   "outputs": [
    {
     "name": "stdout",
     "output_type": "stream",
     "text": [
      "Best parameter (CV score=-14.148):\n",
      "{'knn__n_neighbors': 20, 'knn__p': 2, 'knn__weights': 'uniform'}\n"
     ]
    }
   ],
   "source": [
    "knn = neighbors.KNeighborsRegressor()\n",
    "std = StandardScaler()\n",
    "\n",
    "pipe_knn = Pipeline(steps=[('std', std), ('knn', knn)])\n",
    "\n",
    "# Parameters of pipelines can be set using ‘__’ separated parameter names:\n",
    "parameters_knn = {\n",
    "    'knn__weights':('uniform', 'distance'), \n",
    "    'knn__n_neighbors':np.linspace(1, 20, 20).astype(int), \n",
    "    \"knn__p\":[1, 2]\n",
    "}\n",
    "\n",
    "\n",
    "search_knn = GridSearchCV(pipe_knn, parameters_knn, scoring=scoring, refit='MAE', n_jobs=-1, cv=None, return_train_score=True)\n",
    "# search_knn.fit(X_train, y_train)\n",
    "search_knn.fit(X, y)\n",
    "print(\"Best parameter (CV score=%0.3f):\" % search_knn.best_score_)\n",
    "print(search_knn.best_params_)"
   ]
  },
  {
   "cell_type": "code",
   "execution_count": 58,
   "metadata": {
    "ExecuteTime": {
     "end_time": "2021-01-21T20:34:53.767078Z",
     "start_time": "2021-01-21T20:34:53.457982Z"
    }
   },
   "outputs": [
    {
     "name": "stdout",
     "output_type": "stream",
     "text": [
      "Train MAE: 7.373072886297375\n",
      "Test MAE: 7.451795918367346\n",
      "\n"
     ]
    }
   ],
   "source": [
    "mae_train = mean_absolute_error(y_train, search_knn.predict(X_train))\n",
    "mae_test = mean_absolute_error(y_test, search_knn.predict(X_test))\n",
    "print(\"Train MAE: {}\".format(mae_train))\n",
    "print(\"Test MAE: {}\\n\".format(mae_test))"
   ]
  },
  {
   "cell_type": "code",
   "execution_count": 64,
   "metadata": {
    "ExecuteTime": {
     "end_time": "2021-01-21T20:36:54.700047Z",
     "start_time": "2021-01-21T20:36:54.695046Z"
    }
   },
   "outputs": [],
   "source": [
    "KNN_RESULTS = pd.DataFrame(search_knn.cv_results_)"
   ]
  },
  {
   "cell_type": "code",
   "execution_count": 209,
   "metadata": {
    "ExecuteTime": {
     "end_time": "2021-01-21T19:23:42.137174Z",
     "start_time": "2021-01-21T19:23:42.133666Z"
    }
   },
   "outputs": [],
   "source": [
    "# MAX_DEPTH = []\n",
    "# TRAIN_MAE = []\n",
    "# TEST_MAE = []\n",
    "# MSS = []\n",
    "\n",
    "# for i in np.linspace(1, 20, 20).astype(int):\n",
    "#     for mss in [2, 3, 4]:\n",
    "#         regr_1 = DecisionTreeRegressor(max_depth=i, min_samples_split=mss)\n",
    "#         regr_1.fit(X_train, y_train)\n",
    "#         mae_train = mean_absolute_error(y_train, regr_1.predict(X_train))\n",
    "#         mae_test = mean_absolute_error(y_test, regr_1.predict(X_test))\n",
    "#         MAX_DEPTH.append(i)\n",
    "#         MSS.append(mss)\n",
    "#         TRAIN_MAE.append(mae_train)\n",
    "#         TEST_MAE.append(mae_test)\n",
    "\n",
    "# RESULTS_DF = pd.DataFrame({\"MaxDepth\":MAX_DEPTH, \"MSS\":MSS, \"TrainMAE\":TRAIN_MAE, \"TestMAE\":TEST_MAE})\n",
    "\n",
    "# RESULTS_DF.sort_values(by=\"TrainMAE\").head()\n",
    "\n",
    "# RESULTS_DF.sort_values(by=\"TestMAE\").head()\n",
    "\n",
    "# svr_rbf = SVR(kernel='rbf', C=100, gamma='auto')\n",
    "# svr_rbf_pipeline = make_pipeline(StandardScaler(), svr_rbf)\n",
    "\n",
    "# svr_rbf_pipeline.fit(X_train, y_train)\n",
    "\n",
    "# mae_train = mean_absolute_error(y_train, svr_rbf_pipeline.predict(X_train))\n",
    "# mae_test = mean_absolute_error(y_test, svr_rbf_pipeline.predict(X_test))\n",
    "# print(\"Train MAE: {}\".format(mae_train))\n",
    "# print(\"Test MAE: {}\\n\".format(mae_test))\n",
    "\n",
    "# svr_poly = SVR(kernel='poly', C=100, gamma='auto', degree=3, coef0=3)\n",
    "# svr_poly_pipeline = make_pipeline(StandardScaler(), svr_poly)\n",
    "\n",
    "# svr_poly_pipeline.fit(X_train, y_train)\n",
    "\n",
    "# mae_train = mean_absolute_error(y_train, svr_poly_pipeline.predict(X_train))\n",
    "# mae_test = mean_absolute_error(y_test, svr_poly_pipeline.predict(X_test))\n",
    "# print(\"Train MAE: {}\".format(mae_train))\n",
    "# print(\"Test MAE: {}\\n\".format(mae_test))\n",
    "\n",
    "# knn = neighbors.KNeighborsRegressor()\n",
    "# std = StandardScaler()\n",
    "\n",
    "# pipe_knn_comp = Pipeline(steps=[('std', std), ('knn', knn)])\n",
    "\n",
    "# # Parameters of pipelines can be set using ‘__’ separated parameter names:\n",
    "# parameters_knn_comp = {\n",
    "#     'knn__weights':('uniform', 'distance'), \n",
    "#     'knn__n_neighbors':np.linspace(1, 20, 20).astype(int), \n",
    "# }\n",
    "\n",
    "\n",
    "# search_knn_comp = GridSearchCV(pipe_knn_comp, parameters_knn_comp, scoring=scoring, refit='MAE', n_jobs=-1, cv=None, return_train_score=True)\n",
    "# search_knn_comp.fit(X_train, y_train)\n",
    "# print(\"Best parameter (CV score=%0.3f):\" % search_knn_comp.best_score_)\n",
    "# print(search_knn_comp.best_params_)\n",
    "\n",
    "# mae_train = mean_absolute_error(y_train, search_knn_comp.predict(X_train))\n",
    "# mae_test = mean_absolute_error(y_test, search_knn_comp.predict(X_test))\n",
    "# print(\"Train MAE: {}\".format(mae_train))\n",
    "# print(\"Test MAE: {}\\n\".format(mae_test))\n",
    "\n",
    "# K_NUMBER = []\n",
    "# WEIGHTS = []\n",
    "# TRAIN_MAE_KNN = []\n",
    "# TEST_MAE_KNN = []\n",
    "\n",
    "# for weights in [\"uniform\", \"distance\"]:\n",
    "#     for n_neighbors in range(1, 20):\n",
    "#         knn = neighbors.KNeighborsRegressor(n_neighbors, weights=weights)\n",
    "#         knn.fit(X_train, y_train)\n",
    "        \n",
    "#         mae_train = mean_absolute_error(y_train, knn.predict(X_train))\n",
    "#         mae_test = mean_absolute_error(y_test, knn.predict(X_test))\n",
    "#         K_NUMBER.append(n_neighbors)\n",
    "#         WEIGHTS.append(weights)\n",
    "#         TRAIN_MAE_KNN.append(mae_train)\n",
    "#         TEST_MAE_KNN.append(mae_test)\n",
    "\n",
    "# RESULTS_KNN = pd.DataFrame({\"KNumber\":K_NUMBER, \"Weights\":WEIGHTS, \"TrainMAE\":TRAIN_MAE_KNN, \"TestMAE\":TEST_MAE_KNN})\n",
    "\n",
    "# RESULTS_KNN.sort_values(by=\"TrainMAE\").head()\n",
    "\n",
    "# RESULTS_KNN.sort_values(by=\"TestMAE\").head()"
   ]
  },
  {
   "cell_type": "code",
   "execution_count": null,
   "metadata": {},
   "outputs": [],
   "source": []
  }
 ],
 "metadata": {
  "kernelspec": {
   "display_name": "Python 3",
   "language": "python",
   "name": "python3"
  },
  "language_info": {
   "codemirror_mode": {
    "name": "ipython",
    "version": 3
   },
   "file_extension": ".py",
   "mimetype": "text/x-python",
   "name": "python",
   "nbconvert_exporter": "python",
   "pygments_lexer": "ipython3",
   "version": "3.7.9"
  }
 },
 "nbformat": 4,
 "nbformat_minor": 5
}
