{
 "cells": [
  {
   "cell_type": "code",
   "execution_count": 1,
   "id": "serial-store",
   "metadata": {
    "ExecuteTime": {
     "end_time": "2021-01-22T01:11:19.829607Z",
     "start_time": "2021-01-22T01:11:18.213719Z"
    }
   },
   "outputs": [],
   "source": [
    "import pandas as pd\n",
    "import matplotlib.pyplot as plt\n",
    "from sklearn.metrics import mean_absolute_error\n",
    "import seaborn as sns\n",
    "from sodapy import Socrata\n",
    "\n",
    "import sys\n",
    "sys.path.append(\"..\")\n",
    "\n",
    "import src.config as config"
   ]
  },
  {
   "cell_type": "code",
   "execution_count": 2,
   "id": "phantom-writer",
   "metadata": {
    "ExecuteTime": {
     "end_time": "2021-01-22T01:11:19.834609Z",
     "start_time": "2021-01-22T01:11:19.830681Z"
    }
   },
   "outputs": [],
   "source": [
    "sns.set(style=\"white\", font_scale=2.5)"
   ]
  },
  {
   "cell_type": "code",
   "execution_count": 3,
   "id": "diverse-modern",
   "metadata": {
    "ExecuteTime": {
     "end_time": "2021-01-22T01:11:19.840609Z",
     "start_time": "2021-01-22T01:11:19.836608Z"
    }
   },
   "outputs": [],
   "source": [
    "client = Socrata(\"data.sfgov.org\",\n",
    "                 config.api_key,\n",
    "                 username=config.username,\n",
    "                 password=config.password)"
   ]
  },
  {
   "cell_type": "code",
   "execution_count": 4,
   "id": "animal-toolbox",
   "metadata": {
    "ExecuteTime": {
     "end_time": "2021-01-22T01:11:19.844614Z",
     "start_time": "2021-01-22T01:11:19.842610Z"
    }
   },
   "outputs": [],
   "source": [
    "# This cell was ran once and the data was saved into a csv\n",
    "# results_ml = client.get(\"wg3w-h783\", limit=500000, order=\"incident_date DESC\")\n",
    "# df = pd.sDataFrame.from_records(results_ml)\n",
    "# df.to_csv(\"sfpd_reports.csv\", index=False)"
   ]
  },
  {
   "cell_type": "code",
   "execution_count": 5,
   "id": "coated-quebec",
   "metadata": {
    "ExecuteTime": {
     "end_time": "2021-01-22T01:11:19.849611Z",
     "start_time": "2021-01-22T01:11:19.846611Z"
    }
   },
   "outputs": [],
   "source": [
    "# results_ml = client.get(\"tmnf-yvry\", limit=2161000)\n",
    "# df = pd.DataFrame.from_records(results_ml)\n",
    "# df.to_csv(\"sfpd_reports_2013_2018.csv\", index=False)"
   ]
  },
  {
   "cell_type": "code",
   "execution_count": 6,
   "id": "celtic-burden",
   "metadata": {
    "ExecuteTime": {
     "end_time": "2021-01-22T01:11:31.583275Z",
     "start_time": "2021-01-22T01:11:19.851614Z"
    }
   },
   "outputs": [],
   "source": [
    "df = pd.read_csv(\"sfpd_reports.csv\")\n",
    "df2 = pd.read_csv(\"sfpd_reports_2013_2018.csv\")"
   ]
  },
  {
   "cell_type": "code",
   "execution_count": 7,
   "id": "nominated-mattress",
   "metadata": {
    "ExecuteTime": {
     "end_time": "2021-01-22T01:11:31.587266Z",
     "start_time": "2021-01-22T01:11:31.584274Z"
    }
   },
   "outputs": [],
   "source": [
    "df2_new_columns = []\n",
    "\n",
    "for i in df2.columns:\n",
    "    if i.startswith(\":\"):\n",
    "        continue\n",
    "    else:\n",
    "        df2_new_columns.append(i)"
   ]
  },
  {
   "cell_type": "code",
   "execution_count": 8,
   "id": "exotic-integer",
   "metadata": {
    "ExecuteTime": {
     "end_time": "2021-01-22T01:11:32.054380Z",
     "start_time": "2021-01-22T01:11:31.589266Z"
    }
   },
   "outputs": [],
   "source": [
    "df2 = df2[df2_new_columns]"
   ]
  },
  {
   "cell_type": "code",
   "execution_count": 9,
   "id": "quality-freedom",
   "metadata": {
    "ExecuteTime": {
     "end_time": "2021-01-22T01:11:32.320441Z",
     "start_time": "2021-01-22T01:11:32.056382Z"
    }
   },
   "outputs": [],
   "source": [
    "df2 = df2.rename(columns={\"category\":\"incident_category\", \"dayofweek\":\"incident_day_of_week\", \"date\":\"incident_datetime\",\n",
    "                          \"time\":\"incident_time\", \"pddistrict\":\"police_district\", \"x\":\"latitude\", \"y\":\"longitude\"})"
   ]
  },
  {
   "cell_type": "markdown",
   "id": "temporal-conversation",
   "metadata": {},
   "source": [
    "First we make remove any rows with missing data:"
   ]
  },
  {
   "cell_type": "code",
   "execution_count": 10,
   "id": "crude-allergy",
   "metadata": {
    "ExecuteTime": {
     "end_time": "2021-01-22T01:11:33.170636Z",
     "start_time": "2021-01-22T01:11:32.321441Z"
    }
   },
   "outputs": [],
   "source": [
    "df['incident_datetime'] = pd.to_datetime(df['incident_datetime'])\n",
    "df = df[~df['incident_category'].isnull()]\n",
    "df = df[~df['latitude'].isnull()]\n",
    "df = df[~df['police_district'].isnull()]\n",
    "df = df[[\"incident_datetime\", \"incident_day_of_week\", \"police_district\", \"incident_category\"]]"
   ]
  },
  {
   "cell_type": "code",
   "execution_count": 11,
   "id": "martial-yukon",
   "metadata": {
    "ExecuteTime": {
     "end_time": "2021-01-22T01:11:36.769437Z",
     "start_time": "2021-01-22T01:11:33.171657Z"
    }
   },
   "outputs": [],
   "source": [
    "df2['incident_datetime'] = pd.to_datetime(df2['incident_datetime'])\n",
    "df2 = df2[~df2['incident_category'].isnull()]\n",
    "df2 = df2[~df2['latitude'].isnull()]\n",
    "df2 = df2[~df2['police_district'].isnull()]\n",
    "df2 = df2[[\"incident_datetime\", \"incident_day_of_week\", \"police_district\", \"incident_category\"]]"
   ]
  },
  {
   "cell_type": "code",
   "execution_count": 12,
   "id": "impaired-covering",
   "metadata": {
    "ExecuteTime": {
     "end_time": "2021-01-22T01:11:38.458959Z",
     "start_time": "2021-01-22T01:11:36.770438Z"
    }
   },
   "outputs": [],
   "source": [
    "df2.police_district = df2.police_district.apply(lambda x: x.lower().capitalize())\n",
    "df2.incident_category = df2.incident_category.apply(lambda x: x.lower().capitalize())"
   ]
  },
  {
   "cell_type": "markdown",
   "id": "fundamental-might",
   "metadata": {},
   "source": [
    "We want to predict the daily crime rate so we group the response by date. In other words, we resample the dataframe into one day bins."
   ]
  },
  {
   "cell_type": "code",
   "execution_count": 13,
   "id": "consolidated-imaging",
   "metadata": {
    "ExecuteTime": {
     "end_time": "2021-01-22T01:11:38.769899Z",
     "start_time": "2021-01-22T01:11:38.459829Z"
    }
   },
   "outputs": [],
   "source": [
    "group_by_pd = df.copy()\n",
    "group_by_pd[\"Count\"] = 1\n",
    "group_by_pd = group_by_pd.set_index(group_by_pd[\"incident_datetime\"]).drop(columns=[\"incident_datetime\"])\n",
    "group_by_pd = group_by_pd.groupby(['police_district']).resample('1D').sum()\n",
    "group_by_pd = group_by_pd.reset_index()"
   ]
  },
  {
   "cell_type": "code",
   "execution_count": 14,
   "id": "crazy-probability",
   "metadata": {
    "ExecuteTime": {
     "end_time": "2021-01-22T01:11:42.909836Z",
     "start_time": "2021-01-22T01:11:38.770891Z"
    }
   },
   "outputs": [],
   "source": [
    "group_by_pd2 = df2.copy()\n",
    "group_by_pd2[\"Count\"] = 1\n",
    "group_by_pd2 = group_by_pd2.set_index(group_by_pd2[\"incident_datetime\"]).drop(columns=[\"incident_datetime\"])\n",
    "group_by_pd2 = group_by_pd2.groupby(['police_district']).resample('1D').sum()\n",
    "group_by_pd2 = group_by_pd2.reset_index()"
   ]
  },
  {
   "cell_type": "code",
   "execution_count": 15,
   "id": "improving-investment",
   "metadata": {
    "ExecuteTime": {
     "end_time": "2021-01-22T01:11:42.927841Z",
     "start_time": "2021-01-22T01:11:42.910827Z"
    }
   },
   "outputs": [
    {
     "data": {
      "text/html": [
       "<div>\n",
       "<style scoped>\n",
       "    .dataframe tbody tr th:only-of-type {\n",
       "        vertical-align: middle;\n",
       "    }\n",
       "\n",
       "    .dataframe tbody tr th {\n",
       "        vertical-align: top;\n",
       "    }\n",
       "\n",
       "    .dataframe thead th {\n",
       "        text-align: right;\n",
       "    }\n",
       "</style>\n",
       "<table border=\"1\" class=\"dataframe\">\n",
       "  <thead>\n",
       "    <tr style=\"text-align: right;\">\n",
       "      <th></th>\n",
       "      <th>police_district</th>\n",
       "      <th>incident_datetime</th>\n",
       "      <th>Count</th>\n",
       "    </tr>\n",
       "  </thead>\n",
       "  <tbody>\n",
       "    <tr>\n",
       "      <th>0</th>\n",
       "      <td>Bayview</td>\n",
       "      <td>2018-01-01</td>\n",
       "      <td>51</td>\n",
       "    </tr>\n",
       "    <tr>\n",
       "      <th>1</th>\n",
       "      <td>Bayview</td>\n",
       "      <td>2018-01-02</td>\n",
       "      <td>42</td>\n",
       "    </tr>\n",
       "    <tr>\n",
       "      <th>2</th>\n",
       "      <td>Bayview</td>\n",
       "      <td>2018-01-03</td>\n",
       "      <td>30</td>\n",
       "    </tr>\n",
       "    <tr>\n",
       "      <th>3</th>\n",
       "      <td>Bayview</td>\n",
       "      <td>2018-01-04</td>\n",
       "      <td>36</td>\n",
       "    </tr>\n",
       "    <tr>\n",
       "      <th>4</th>\n",
       "      <td>Bayview</td>\n",
       "      <td>2018-01-05</td>\n",
       "      <td>39</td>\n",
       "    </tr>\n",
       "    <tr>\n",
       "      <th>...</th>\n",
       "      <td>...</td>\n",
       "      <td>...</td>\n",
       "      <td>...</td>\n",
       "    </tr>\n",
       "    <tr>\n",
       "      <th>56127</th>\n",
       "      <td>Tenderloin</td>\n",
       "      <td>2018-05-10</td>\n",
       "      <td>17</td>\n",
       "    </tr>\n",
       "    <tr>\n",
       "      <th>56128</th>\n",
       "      <td>Tenderloin</td>\n",
       "      <td>2018-05-11</td>\n",
       "      <td>18</td>\n",
       "    </tr>\n",
       "    <tr>\n",
       "      <th>56129</th>\n",
       "      <td>Tenderloin</td>\n",
       "      <td>2018-05-12</td>\n",
       "      <td>13</td>\n",
       "    </tr>\n",
       "    <tr>\n",
       "      <th>56130</th>\n",
       "      <td>Tenderloin</td>\n",
       "      <td>2018-05-13</td>\n",
       "      <td>9</td>\n",
       "    </tr>\n",
       "    <tr>\n",
       "      <th>56131</th>\n",
       "      <td>Tenderloin</td>\n",
       "      <td>2018-05-14</td>\n",
       "      <td>9</td>\n",
       "    </tr>\n",
       "  </tbody>\n",
       "</table>\n",
       "<p>68392 rows × 3 columns</p>\n",
       "</div>"
      ],
      "text/plain": [
       "      police_district incident_datetime  Count\n",
       "0             Bayview        2018-01-01     51\n",
       "1             Bayview        2018-01-02     42\n",
       "2             Bayview        2018-01-03     30\n",
       "3             Bayview        2018-01-04     36\n",
       "4             Bayview        2018-01-05     39\n",
       "...               ...               ...    ...\n",
       "56127      Tenderloin        2018-05-10     17\n",
       "56128      Tenderloin        2018-05-11     18\n",
       "56129      Tenderloin        2018-05-12     13\n",
       "56130      Tenderloin        2018-05-13      9\n",
       "56131      Tenderloin        2018-05-14      9\n",
       "\n",
       "[68392 rows x 3 columns]"
      ]
     },
     "execution_count": 15,
     "metadata": {},
     "output_type": "execute_result"
    }
   ],
   "source": [
    "group_by_pd.append(group_by_pd2)"
   ]
  },
  {
   "cell_type": "code",
   "execution_count": 16,
   "id": "local-performance",
   "metadata": {
    "ExecuteTime": {
     "end_time": "2021-01-22T01:11:42.934832Z",
     "start_time": "2021-01-22T01:11:42.928831Z"
    }
   },
   "outputs": [],
   "source": [
    "X = group_by_pd.append(group_by_pd2)"
   ]
  },
  {
   "cell_type": "markdown",
   "id": "annoying-exposure",
   "metadata": {},
   "source": [
    "## Feature Engineering\n",
    "\n",
    "Here, we one-hot encode the police district feature and create a feature for both the day and month:"
   ]
  },
  {
   "cell_type": "code",
   "execution_count": 17,
   "id": "informed-marking",
   "metadata": {
    "ExecuteTime": {
     "end_time": "2021-01-22T01:11:42.950838Z",
     "start_time": "2021-01-22T01:11:42.936832Z"
    }
   },
   "outputs": [],
   "source": [
    "X = pd.concat([X, pd.get_dummies(X[\"police_district\"])], axis=1).drop(columns=[\"police_district\"])"
   ]
  },
  {
   "cell_type": "code",
   "execution_count": 18,
   "id": "historical-continuity",
   "metadata": {
    "ExecuteTime": {
     "end_time": "2021-01-22T01:11:42.986845Z",
     "start_time": "2021-01-22T01:11:42.951846Z"
    }
   },
   "outputs": [],
   "source": [
    "X['year'] = pd.to_datetime(X['incident_datetime']).dt.year\n",
    "\n",
    "X['month'] = pd.to_datetime(X['incident_datetime']).dt.month\n",
    "X['day'] = pd.to_datetime(X['incident_datetime']).dt.day"
   ]
  },
  {
   "cell_type": "markdown",
   "id": "subtle-facility",
   "metadata": {},
   "source": [
    "Given that the latest incidents will be approved later in the future we cannot use the last days as training data."
   ]
  },
  {
   "cell_type": "code",
   "execution_count": 19,
   "id": "northern-underground",
   "metadata": {
    "ExecuteTime": {
     "end_time": "2021-01-22T01:11:42.989845Z",
     "start_time": "2021-01-22T01:11:42.987845Z"
    }
   },
   "outputs": [],
   "source": [
    "X = X.iloc[:-10]"
   ]
  },
  {
   "cell_type": "code",
   "execution_count": 20,
   "id": "geological-association",
   "metadata": {
    "ExecuteTime": {
     "end_time": "2021-01-22T01:11:43.001847Z",
     "start_time": "2021-01-22T01:11:42.991845Z"
    }
   },
   "outputs": [],
   "source": [
    "y = X[[\"Count\"]]\n",
    "X = X.drop(['incident_datetime', \"Count\"], axis=1)"
   ]
  },
  {
   "cell_type": "code",
   "execution_count": 21,
   "id": "racial-drink",
   "metadata": {
    "ExecuteTime": {
     "end_time": "2021-01-22T01:11:43.006849Z",
     "start_time": "2021-01-22T01:11:43.002848Z"
    }
   },
   "outputs": [
    {
     "data": {
      "text/plain": [
       "(68382, 14)"
      ]
     },
     "execution_count": 21,
     "metadata": {},
     "output_type": "execute_result"
    }
   ],
   "source": [
    "X.shape"
   ]
  },
  {
   "cell_type": "code",
   "execution_count": 22,
   "id": "educational-rapid",
   "metadata": {
    "ExecuteTime": {
     "end_time": "2021-01-22T01:11:43.019852Z",
     "start_time": "2021-01-22T01:11:43.007849Z"
    }
   },
   "outputs": [],
   "source": [
    "from sklearn.model_selection import train_test_split"
   ]
  },
  {
   "cell_type": "code",
   "execution_count": 23,
   "id": "specified-florence",
   "metadata": {
    "ExecuteTime": {
     "end_time": "2021-01-22T01:11:43.039857Z",
     "start_time": "2021-01-22T01:11:43.023862Z"
    }
   },
   "outputs": [],
   "source": [
    "X_train, X_test, y_train, y_test = train_test_split(\n",
    "    X, y, test_size=0.30, random_state=42)"
   ]
  },
  {
   "cell_type": "code",
   "execution_count": 24,
   "id": "thorough-average",
   "metadata": {
    "ExecuteTime": {
     "end_time": "2021-01-22T01:11:43.054860Z",
     "start_time": "2021-01-22T01:11:43.040857Z"
    }
   },
   "outputs": [
    {
     "data": {
      "text/html": [
       "<div>\n",
       "<style scoped>\n",
       "    .dataframe tbody tr th:only-of-type {\n",
       "        vertical-align: middle;\n",
       "    }\n",
       "\n",
       "    .dataframe tbody tr th {\n",
       "        vertical-align: top;\n",
       "    }\n",
       "\n",
       "    .dataframe thead th {\n",
       "        text-align: right;\n",
       "    }\n",
       "</style>\n",
       "<table border=\"1\" class=\"dataframe\">\n",
       "  <thead>\n",
       "    <tr style=\"text-align: right;\">\n",
       "      <th></th>\n",
       "      <th>Bayview</th>\n",
       "      <th>Central</th>\n",
       "      <th>Ingleside</th>\n",
       "      <th>Mission</th>\n",
       "      <th>Northern</th>\n",
       "      <th>Out of SF</th>\n",
       "      <th>Park</th>\n",
       "      <th>Richmond</th>\n",
       "      <th>Southern</th>\n",
       "      <th>Taraval</th>\n",
       "      <th>Tenderloin</th>\n",
       "      <th>year</th>\n",
       "      <th>month</th>\n",
       "      <th>day</th>\n",
       "    </tr>\n",
       "  </thead>\n",
       "  <tbody>\n",
       "    <tr>\n",
       "      <th>51420</th>\n",
       "      <td>0</td>\n",
       "      <td>0</td>\n",
       "      <td>0</td>\n",
       "      <td>0</td>\n",
       "      <td>0</td>\n",
       "      <td>0</td>\n",
       "      <td>0</td>\n",
       "      <td>0</td>\n",
       "      <td>0</td>\n",
       "      <td>0</td>\n",
       "      <td>1</td>\n",
       "      <td>2005</td>\n",
       "      <td>6</td>\n",
       "      <td>20</td>\n",
       "    </tr>\n",
       "    <tr>\n",
       "      <th>27924</th>\n",
       "      <td>0</td>\n",
       "      <td>0</td>\n",
       "      <td>0</td>\n",
       "      <td>0</td>\n",
       "      <td>1</td>\n",
       "      <td>0</td>\n",
       "      <td>0</td>\n",
       "      <td>0</td>\n",
       "      <td>0</td>\n",
       "      <td>0</td>\n",
       "      <td>0</td>\n",
       "      <td>2017</td>\n",
       "      <td>12</td>\n",
       "      <td>25</td>\n",
       "    </tr>\n",
       "    <tr>\n",
       "      <th>9323</th>\n",
       "      <td>0</td>\n",
       "      <td>0</td>\n",
       "      <td>0</td>\n",
       "      <td>0</td>\n",
       "      <td>0</td>\n",
       "      <td>0</td>\n",
       "      <td>0</td>\n",
       "      <td>0</td>\n",
       "      <td>1</td>\n",
       "      <td>0</td>\n",
       "      <td>0</td>\n",
       "      <td>2019</td>\n",
       "      <td>2</td>\n",
       "      <td>13</td>\n",
       "    </tr>\n",
       "    <tr>\n",
       "      <th>20746</th>\n",
       "      <td>0</td>\n",
       "      <td>0</td>\n",
       "      <td>0</td>\n",
       "      <td>1</td>\n",
       "      <td>0</td>\n",
       "      <td>0</td>\n",
       "      <td>0</td>\n",
       "      <td>0</td>\n",
       "      <td>0</td>\n",
       "      <td>0</td>\n",
       "      <td>0</td>\n",
       "      <td>2013</td>\n",
       "      <td>9</td>\n",
       "      <td>13</td>\n",
       "    </tr>\n",
       "    <tr>\n",
       "      <th>44573</th>\n",
       "      <td>0</td>\n",
       "      <td>0</td>\n",
       "      <td>0</td>\n",
       "      <td>0</td>\n",
       "      <td>0</td>\n",
       "      <td>0</td>\n",
       "      <td>0</td>\n",
       "      <td>0</td>\n",
       "      <td>1</td>\n",
       "      <td>0</td>\n",
       "      <td>0</td>\n",
       "      <td>2017</td>\n",
       "      <td>6</td>\n",
       "      <td>17</td>\n",
       "    </tr>\n",
       "    <tr>\n",
       "      <th>...</th>\n",
       "      <td>...</td>\n",
       "      <td>...</td>\n",
       "      <td>...</td>\n",
       "      <td>...</td>\n",
       "      <td>...</td>\n",
       "      <td>...</td>\n",
       "      <td>...</td>\n",
       "      <td>...</td>\n",
       "      <td>...</td>\n",
       "      <td>...</td>\n",
       "      <td>...</td>\n",
       "      <td>...</td>\n",
       "      <td>...</td>\n",
       "      <td>...</td>\n",
       "    </tr>\n",
       "    <tr>\n",
       "      <th>24934</th>\n",
       "      <td>0</td>\n",
       "      <td>0</td>\n",
       "      <td>0</td>\n",
       "      <td>0</td>\n",
       "      <td>1</td>\n",
       "      <td>0</td>\n",
       "      <td>0</td>\n",
       "      <td>0</td>\n",
       "      <td>0</td>\n",
       "      <td>0</td>\n",
       "      <td>0</td>\n",
       "      <td>2009</td>\n",
       "      <td>10</td>\n",
       "      <td>18</td>\n",
       "    </tr>\n",
       "    <tr>\n",
       "      <th>6265</th>\n",
       "      <td>0</td>\n",
       "      <td>0</td>\n",
       "      <td>0</td>\n",
       "      <td>0</td>\n",
       "      <td>0</td>\n",
       "      <td>1</td>\n",
       "      <td>0</td>\n",
       "      <td>0</td>\n",
       "      <td>0</td>\n",
       "      <td>0</td>\n",
       "      <td>0</td>\n",
       "      <td>2019</td>\n",
       "      <td>11</td>\n",
       "      <td>22</td>\n",
       "    </tr>\n",
       "    <tr>\n",
       "      <th>42626</th>\n",
       "      <td>0</td>\n",
       "      <td>0</td>\n",
       "      <td>0</td>\n",
       "      <td>0</td>\n",
       "      <td>0</td>\n",
       "      <td>0</td>\n",
       "      <td>0</td>\n",
       "      <td>0</td>\n",
       "      <td>1</td>\n",
       "      <td>0</td>\n",
       "      <td>0</td>\n",
       "      <td>2012</td>\n",
       "      <td>2</td>\n",
       "      <td>17</td>\n",
       "    </tr>\n",
       "    <tr>\n",
       "      <th>860</th>\n",
       "      <td>1</td>\n",
       "      <td>0</td>\n",
       "      <td>0</td>\n",
       "      <td>0</td>\n",
       "      <td>0</td>\n",
       "      <td>0</td>\n",
       "      <td>0</td>\n",
       "      <td>0</td>\n",
       "      <td>0</td>\n",
       "      <td>0</td>\n",
       "      <td>0</td>\n",
       "      <td>2020</td>\n",
       "      <td>5</td>\n",
       "      <td>10</td>\n",
       "    </tr>\n",
       "    <tr>\n",
       "      <th>3535</th>\n",
       "      <td>1</td>\n",
       "      <td>0</td>\n",
       "      <td>0</td>\n",
       "      <td>0</td>\n",
       "      <td>0</td>\n",
       "      <td>0</td>\n",
       "      <td>0</td>\n",
       "      <td>0</td>\n",
       "      <td>0</td>\n",
       "      <td>0</td>\n",
       "      <td>0</td>\n",
       "      <td>2012</td>\n",
       "      <td>9</td>\n",
       "      <td>5</td>\n",
       "    </tr>\n",
       "  </tbody>\n",
       "</table>\n",
       "<p>47867 rows × 14 columns</p>\n",
       "</div>"
      ],
      "text/plain": [
       "       Bayview  Central  Ingleside  Mission  Northern  Out of SF  Park  \\\n",
       "51420        0        0          0        0         0          0     0   \n",
       "27924        0        0          0        0         1          0     0   \n",
       "9323         0        0          0        0         0          0     0   \n",
       "20746        0        0          0        1         0          0     0   \n",
       "44573        0        0          0        0         0          0     0   \n",
       "...        ...      ...        ...      ...       ...        ...   ...   \n",
       "24934        0        0          0        0         1          0     0   \n",
       "6265         0        0          0        0         0          1     0   \n",
       "42626        0        0          0        0         0          0     0   \n",
       "860          1        0          0        0         0          0     0   \n",
       "3535         1        0          0        0         0          0     0   \n",
       "\n",
       "       Richmond  Southern  Taraval  Tenderloin  year  month  day  \n",
       "51420         0         0        0           1  2005      6   20  \n",
       "27924         0         0        0           0  2017     12   25  \n",
       "9323          0         1        0           0  2019      2   13  \n",
       "20746         0         0        0           0  2013      9   13  \n",
       "44573         0         1        0           0  2017      6   17  \n",
       "...         ...       ...      ...         ...   ...    ...  ...  \n",
       "24934         0         0        0           0  2009     10   18  \n",
       "6265          0         0        0           0  2019     11   22  \n",
       "42626         0         1        0           0  2012      2   17  \n",
       "860           0         0        0           0  2020      5   10  \n",
       "3535          0         0        0           0  2012      9    5  \n",
       "\n",
       "[47867 rows x 14 columns]"
      ]
     },
     "execution_count": 24,
     "metadata": {},
     "output_type": "execute_result"
    }
   ],
   "source": [
    "X_train"
   ]
  },
  {
   "cell_type": "markdown",
   "id": "legendary-spirituality",
   "metadata": {},
   "source": [
    "## Training a DT Regressor\n",
    "\n",
    "Here we use the scikit-learn implementation to train a DT model."
   ]
  },
  {
   "cell_type": "code",
   "execution_count": 25,
   "id": "temporal-narrow",
   "metadata": {
    "ExecuteTime": {
     "end_time": "2021-01-22T01:11:43.151881Z",
     "start_time": "2021-01-22T01:11:43.055860Z"
    }
   },
   "outputs": [],
   "source": [
    "from sklearn.tree import DecisionTreeRegressor\n",
    "from sklearn.metrics import mean_absolute_error\n",
    "import numpy as np\n",
    "from sklearn.pipeline import make_pipeline\n",
    "from sklearn.preprocessing import StandardScaler\n",
    "from sklearn.pipeline import Pipeline\n",
    "from sklearn.model_selection import GridSearchCV"
   ]
  },
  {
   "cell_type": "code",
   "execution_count": 26,
   "id": "wireless-luxembourg",
   "metadata": {
    "ExecuteTime": {
     "end_time": "2021-01-22T01:11:43.155892Z",
     "start_time": "2021-01-22T01:11:43.152882Z"
    }
   },
   "outputs": [],
   "source": [
    "scoring = {'MAE': 'neg_mean_absolute_error', 'MSE': 'neg_mean_squared_error'}"
   ]
  },
  {
   "cell_type": "code",
   "execution_count": 27,
   "id": "stable-movement",
   "metadata": {
    "ExecuteTime": {
     "end_time": "2021-01-22T04:38:35.122382Z",
     "start_time": "2021-01-22T04:38:28.228819Z"
    }
   },
   "outputs": [
    {
     "name": "stdout",
     "output_type": "stream",
     "text": [
      "Best parameter (CV score=-7.324):\n",
      "{'max_depth': 10, 'min_samples_split': 4}\n"
     ]
    }
   ],
   "source": [
    "dtr = DecisionTreeRegressor()\n",
    "\n",
    "\n",
    "# Parameters of pipelines can be set using ‘__’ separated parameter names:\n",
    "parameters_dt = {\n",
    "    'max_depth':np.linspace(1, 20, 20).astype(int), \n",
    "    'min_samples_split':[2, 3, 4]\n",
    "}\n",
    "\n",
    "\n",
    "search_dt = GridSearchCV(dtr, parameters_dt, scoring=scoring, refit='MAE', n_jobs=-1, cv=None, return_train_score=True)\n",
    "search_dt.fit(X_train, y_train)\n",
    "# search_dt.fit(X, y)\n",
    "print(\"Best parameter (CV score=%0.3f):\" % search_dt.best_score_)\n",
    "print(search_dt.best_params_)"
   ]
  },
  {
   "cell_type": "code",
   "execution_count": 28,
   "id": "elementary-pollution",
   "metadata": {
    "ExecuteTime": {
     "end_time": "2021-01-22T04:38:35.128382Z",
     "start_time": "2021-01-22T04:38:35.123390Z"
    }
   },
   "outputs": [],
   "source": [
    "DT_RESULTS = pd.DataFrame(search_dt.cv_results_)"
   ]
  },
  {
   "cell_type": "code",
   "execution_count": 29,
   "id": "floppy-cleaners",
   "metadata": {
    "ExecuteTime": {
     "end_time": "2021-01-22T04:38:35.154398Z",
     "start_time": "2021-01-22T04:38:35.130383Z"
    }
   },
   "outputs": [
    {
     "name": "stdout",
     "output_type": "stream",
     "text": [
      "Train MAE: 6.963678132638159\n",
      "Test MAE: 7.296462490955421\n",
      "\n"
     ]
    }
   ],
   "source": [
    "mae_train = mean_absolute_error(y_train, search_dt.predict(X_train))\n",
    "mae_test = mean_absolute_error(y_test, search_dt.predict(X_test))\n",
    "print(\"Train MAE: {}\".format(mae_train))\n",
    "print(\"Test MAE: {}\\n\".format(mae_test))"
   ]
  },
  {
   "cell_type": "code",
   "execution_count": 65,
   "id": "blond-thanksgiving",
   "metadata": {
    "ExecuteTime": {
     "end_time": "2021-01-21T23:14:09.658475Z",
     "start_time": "2021-01-21T23:14:07.212683Z"
    }
   },
   "outputs": [
    {
     "data": {
      "image/png": "[encoded data removed]",
      "text/plain": [
       "<Figure size 1008x576 with 1 Axes>"
      ]
     },
     "metadata": {},
     "output_type": "display_data"
    }
   ],
   "source": [
    "plt.figure(figsize=(14,8))\n",
    "plt.plot(DT_RESULTS.param_max_depth.astype(int), -1*DT_RESULTS.mean_train_MAE, label=\"Train Set\")\n",
    "plt.plot(DT_RESULTS.param_max_depth.astype(int), -1*DT_RESULTS.mean_test_MAE, label=\"Test Set\")\n",
    "plt.xlabel(\"Max Depth\")\n",
    "plt.ylabel(\"MAE (crime rate per day)\")\n",
    "plt.legend()\n",
    "plt.savefig(\"figures/dt_training.png\", bbox_inches='tight', dpi=600)"
   ]
  },
  {
   "cell_type": "markdown",
   "id": "applicable-incentive",
   "metadata": {},
   "source": [
    "## Train a SVM Model"
   ]
  },
  {
   "cell_type": "code",
   "execution_count": 30,
   "id": "behavioral-bernard",
   "metadata": {
    "ExecuteTime": {
     "end_time": "2021-01-22T04:38:42.029990Z",
     "start_time": "2021-01-22T04:38:42.026998Z"
    }
   },
   "outputs": [],
   "source": [
    "from sklearn.svm import SVR"
   ]
  },
  {
   "cell_type": "code",
   "execution_count": 31,
   "id": "ideal-medline",
   "metadata": {
    "ExecuteTime": {
     "end_time": "2021-01-22T04:46:34.435230Z",
     "start_time": "2021-01-22T04:38:48.779730Z"
    }
   },
   "outputs": [
    {
     "name": "stderr",
     "output_type": "stream",
     "text": [
      "C:\\Users\\Pedro\\Anaconda3\\envs\\tf_nightly\\lib\\site-packages\\sklearn\\utils\\validation.py:72: DataConversionWarning: A column-vector y was passed when a 1d array was expected. Please change the shape of y to (n_samples, ), for example using ravel().\n",
      "  return f(**kwargs)\n"
     ]
    },
    {
     "name": "stdout",
     "output_type": "stream",
     "text": [
      "Best parameter (CV score=-7.365):\n",
      "{'svm__C': 100, 'svm__coef0': 3, 'svm__degree': 3, 'svm__kernel': 'rbf'}\n"
     ]
    }
   ],
   "source": [
    "svr = SVR()\n",
    "std = StandardScaler()\n",
    "\n",
    "pipe_svr = Pipeline(steps=[('std', std), ('svm', svr)])\n",
    "\n",
    "# Parameters of pipelines can be set using ‘__’ separated parameter names:\n",
    "parameters_svr = {\n",
    "    'svm__kernel':('poly', 'rbf'), \n",
    "    'svm__C':[100], \n",
    "    \"svm__coef0\":[3], \n",
    "    'svm__degree':[3]}\n",
    "\n",
    "\n",
    "search_svr = GridSearchCV(pipe_svr, parameters_svr, scoring=scoring, refit='MAE', n_jobs=-1, cv=None, return_train_score=True)\n",
    "search_svr.fit(X_train, y_train)\n",
    "# search_svr.fit(X, y)\n",
    "print(\"Best parameter (CV score=%0.3f):\" % search_svr.best_score_)\n",
    "print(search_svr.best_params_)"
   ]
  },
  {
   "cell_type": "code",
   "execution_count": 32,
   "id": "romantic-catholic",
   "metadata": {
    "ExecuteTime": {
     "end_time": "2021-01-22T04:47:42.506059Z",
     "start_time": "2021-01-22T04:46:34.436230Z"
    }
   },
   "outputs": [
    {
     "name": "stdout",
     "output_type": "stream",
     "text": [
      "Train MAE: 7.281654190755648\n",
      "Test MAE: 7.395574023418399\n",
      "\n"
     ]
    }
   ],
   "source": [
    "mae_train = mean_absolute_error(y_train, search_svr.predict(X_train))\n",
    "mae_test = mean_absolute_error(y_test, search_svr.predict(X_test))\n",
    "print(\"Train MAE: {}\".format(mae_train))\n",
    "print(\"Test MAE: {}\\n\".format(mae_test))"
   ]
  },
  {
   "cell_type": "code",
   "execution_count": 35,
   "id": "fancy-austin",
   "metadata": {
    "ExecuteTime": {
     "end_time": "2021-01-22T05:10:01.080010Z",
     "start_time": "2021-01-22T05:10:01.077008Z"
    }
   },
   "outputs": [],
   "source": [
    "# svr = SVR()\n",
    "# std = StandardScaler()\n",
    "\n",
    "# pipe_svr_all = Pipeline(steps=[('std', std), ('svm', svr)])\n",
    "\n",
    "# # Parameters of pipelines can be set using ‘__’ separated parameter names:\n",
    "# parameters_svr_all = {\n",
    "#     'svm__kernel':('poly', 'rbf'), \n",
    "#     'svm__C':[1, 50, 100], \n",
    "#     \"svm__coef0\":[2, 3, 4, 5], \n",
    "#     'svm__degree':[2, 3, 4]}\n",
    "\n",
    "\n",
    "# search_svr_all = GridSearchCV(pipe_svr_all, parameters_svr_all, scoring=scoring, refit='MAE', n_jobs=-1, cv=None, return_train_score=True)\n",
    "# search_svr_all.fit(X_train, y_train)\n",
    "# # search_svr_all.fit(X, y)\n",
    "# print(\"Best parameter (CV score=%0.3f):\" % search_svr_all.best_score_)\n",
    "# print(search_svr_all.best_params_)"
   ]
  },
  {
   "cell_type": "code",
   "execution_count": 34,
   "id": "chinese-redhead",
   "metadata": {
    "ExecuteTime": {
     "end_time": "2021-01-22T05:09:59.384550Z",
     "start_time": "2021-01-22T05:09:59.381549Z"
    }
   },
   "outputs": [],
   "source": [
    "# mae_train = mean_absolute_error(y_train, search_svr_all.predict(X_train))\n",
    "# mae_test = mean_absolute_error(y_test, search_svr_all.predict(X_test))\n",
    "# print(\"Train MAE: {}\".format(mae_train))\n",
    "# print(\"Test MAE: {}\\n\".format(mae_test))"
   ]
  },
  {
   "cell_type": "code",
   "execution_count": 37,
   "id": "fourth-bhutan",
   "metadata": {
    "ExecuteTime": {
     "end_time": "2021-01-22T05:10:07.591655Z",
     "start_time": "2021-01-22T05:10:07.589655Z"
    }
   },
   "outputs": [],
   "source": [
    "# SVM_RESULTS = pd.DataFrame(search_svr_all.cv_results_)"
   ]
  },
  {
   "cell_type": "markdown",
   "id": "present-midwest",
   "metadata": {},
   "source": [
    "## Training a KNN Model"
   ]
  },
  {
   "cell_type": "code",
   "execution_count": 38,
   "id": "monthly-england",
   "metadata": {
    "ExecuteTime": {
     "end_time": "2021-01-22T05:10:09.161100Z",
     "start_time": "2021-01-22T05:10:09.157099Z"
    }
   },
   "outputs": [],
   "source": [
    "from sklearn import neighbors"
   ]
  },
  {
   "cell_type": "code",
   "execution_count": 41,
   "id": "proved-dimension",
   "metadata": {
    "ExecuteTime": {
     "end_time": "2021-01-22T06:02:48.890768Z",
     "start_time": "2021-01-22T05:49:21.456053Z"
    }
   },
   "outputs": [
    {
     "name": "stdout",
     "output_type": "stream",
     "text": [
      "Best parameter (CV score=-7.212):\n",
      "{'knn__n_neighbors': 20, 'knn__p': 1, 'knn__weights': 'distance'}\n"
     ]
    }
   ],
   "source": [
    "knn = neighbors.KNeighborsRegressor()\n",
    "std = StandardScaler()\n",
    "\n",
    "pipe_knn = Pipeline(steps=[('std', std), ('knn', knn)])\n",
    "\n",
    "# Parameters of pipelines can be set using ‘__’ separated parameter names:\n",
    "parameters_knn = {\n",
    "    'knn__weights':('uniform', 'distance'), \n",
    "    'knn__n_neighbors':np.linspace(1, 20, 20).astype(int), \n",
    "    \"knn__p\":[1, 2]\n",
    "}\n",
    "\n",
    "\n",
    "search_knn = GridSearchCV(pipe_knn, parameters_knn, scoring=scoring, refit='MAE', n_jobs=-1, cv=None, return_train_score=True)\n",
    "search_knn.fit(X_train, y_train)\n",
    "# search_knn.fit(X, y)\n",
    "print(\"Best parameter (CV score=%0.3f):\" % search_knn.best_score_)\n",
    "print(search_knn.best_params_)"
   ]
  },
  {
   "cell_type": "code",
   "execution_count": 42,
   "id": "vertical-sauce",
   "metadata": {
    "ExecuteTime": {
     "end_time": "2021-01-22T06:03:02.023778Z",
     "start_time": "2021-01-22T06:02:48.891768Z"
    }
   },
   "outputs": [
    {
     "name": "stdout",
     "output_type": "stream",
     "text": [
      "Train MAE: 0.1267888106628784\n",
      "Test MAE: 7.194421355832896\n",
      "\n"
     ]
    }
   ],
   "source": [
    "mae_train = mean_absolute_error(y_train, search_knn.predict(X_train))\n",
    "mae_test = mean_absolute_error(y_test, search_knn.predict(X_test))\n",
    "print(\"Train MAE: {}\".format(mae_train))\n",
    "print(\"Test MAE: {}\\n\".format(mae_test))"
   ]
  },
  {
   "cell_type": "code",
   "execution_count": 64,
   "id": "demographic-fantasy",
   "metadata": {
    "ExecuteTime": {
     "end_time": "2021-01-21T20:36:54.700047Z",
     "start_time": "2021-01-21T20:36:54.695046Z"
    }
   },
   "outputs": [],
   "source": [
    "KNN_RESULTS = pd.DataFrame(search_knn.cv_results_)"
   ]
  },
  {
   "cell_type": "code",
   "execution_count": 209,
   "id": "congressional-potential",
   "metadata": {
    "ExecuteTime": {
     "end_time": "2021-01-21T19:23:42.137174Z",
     "start_time": "2021-01-21T19:23:42.133666Z"
    }
   },
   "outputs": [],
   "source": [
    "# MAX_DEPTH = []\n",
    "# TRAIN_MAE = []\n",
    "# TEST_MAE = []\n",
    "# MSS = []\n",
    "\n",
    "# for i in np.linspace(1, 20, 20).astype(int):\n",
    "#     for mss in [2, 3, 4]:\n",
    "#         regr_1 = DecisionTreeRegressor(max_depth=i, min_samples_split=mss)\n",
    "#         regr_1.fit(X_train, y_train)\n",
    "#         mae_train = mean_absolute_error(y_train, regr_1.predict(X_train))\n",
    "#         mae_test = mean_absolute_error(y_test, regr_1.predict(X_test))\n",
    "#         MAX_DEPTH.append(i)\n",
    "#         MSS.append(mss)\n",
    "#         TRAIN_MAE.append(mae_train)\n",
    "#         TEST_MAE.append(mae_test)\n",
    "\n",
    "# RESULTS_DF = pd.DataFrame({\"MaxDepth\":MAX_DEPTH, \"MSS\":MSS, \"TrainMAE\":TRAIN_MAE, \"TestMAE\":TEST_MAE})\n",
    "\n",
    "# RESULTS_DF.sort_values(by=\"TrainMAE\").head()\n",
    "\n",
    "# RESULTS_DF.sort_values(by=\"TestMAE\").head()\n",
    "\n",
    "# svr_rbf = SVR(kernel='rbf', C=100, gamma='auto')\n",
    "# svr_rbf_pipeline = make_pipeline(StandardScaler(), svr_rbf)\n",
    "\n",
    "# svr_rbf_pipeline.fit(X_train, y_train)\n",
    "\n",
    "# mae_train = mean_absolute_error(y_train, svr_rbf_pipeline.predict(X_train))\n",
    "# mae_test = mean_absolute_error(y_test, svr_rbf_pipeline.predict(X_test))\n",
    "# print(\"Train MAE: {}\".format(mae_train))\n",
    "# print(\"Test MAE: {}\\n\".format(mae_test))\n",
    "\n",
    "# svr_poly = SVR(kernel='poly', C=100, gamma='auto', degree=3, coef0=3)\n",
    "# svr_poly_pipeline = make_pipeline(StandardScaler(), svr_poly)\n",
    "\n",
    "# svr_poly_pipeline.fit(X_train, y_train)\n",
    "\n",
    "# mae_train = mean_absolute_error(y_train, svr_poly_pipeline.predict(X_train))\n",
    "# mae_test = mean_absolute_error(y_test, svr_poly_pipeline.predict(X_test))\n",
    "# print(\"Train MAE: {}\".format(mae_train))\n",
    "# print(\"Test MAE: {}\\n\".format(mae_test))\n",
    "\n",
    "# knn = neighbors.KNeighborsRegressor()\n",
    "# std = StandardScaler()\n",
    "\n",
    "# pipe_knn_comp = Pipeline(steps=[('std', std), ('knn', knn)])\n",
    "\n",
    "# # Parameters of pipelines can be set using ‘__’ separated parameter names:\n",
    "# parameters_knn_comp = {\n",
    "#     'knn__weights':('uniform', 'distance'), \n",
    "#     'knn__n_neighbors':np.linspace(1, 20, 20).astype(int), \n",
    "# }\n",
    "\n",
    "\n",
    "# search_knn_comp = GridSearchCV(pipe_knn_comp, parameters_knn_comp, scoring=scoring, refit='MAE', n_jobs=-1, cv=None, return_train_score=True)\n",
    "# search_knn_comp.fit(X_train, y_train)\n",
    "# print(\"Best parameter (CV score=%0.3f):\" % search_knn_comp.best_score_)\n",
    "# print(search_knn_comp.best_params_)\n",
    "\n",
    "# mae_train = mean_absolute_error(y_train, search_knn_comp.predict(X_train))\n",
    "# mae_test = mean_absolute_error(y_test, search_knn_comp.predict(X_test))\n",
    "# print(\"Train MAE: {}\".format(mae_train))\n",
    "# print(\"Test MAE: {}\\n\".format(mae_test))\n",
    "\n",
    "# K_NUMBER = []\n",
    "# WEIGHTS = []\n",
    "# TRAIN_MAE_KNN = []\n",
    "# TEST_MAE_KNN = []\n",
    "\n",
    "# for weights in [\"uniform\", \"distance\"]:\n",
    "#     for n_neighbors in range(1, 20):\n",
    "#         knn = neighbors.KNeighborsRegressor(n_neighbors, weights=weights)\n",
    "#         knn.fit(X_train, y_train)\n",
    "        \n",
    "#         mae_train = mean_absolute_error(y_train, knn.predict(X_train))\n",
    "#         mae_test = mean_absolute_error(y_test, knn.predict(X_test))\n",
    "#         K_NUMBER.append(n_neighbors)\n",
    "#         WEIGHTS.append(weights)\n",
    "#         TRAIN_MAE_KNN.append(mae_train)\n",
    "#         TEST_MAE_KNN.append(mae_test)\n",
    "\n",
    "# RESULTS_KNN = pd.DataFrame({\"KNumber\":K_NUMBER, \"Weights\":WEIGHTS, \"TrainMAE\":TRAIN_MAE_KNN, \"TestMAE\":TEST_MAE_KNN})\n",
    "\n",
    "# RESULTS_KNN.sort_values(by=\"TrainMAE\").head()\n",
    "\n",
    "# RESULTS_KNN.sort_values(by=\"TestMAE\").head()"
   ]
  },
  {
   "cell_type": "code",
   "execution_count": null,
   "id": "mounted-crime",
   "metadata": {},
   "outputs": [],
   "source": []
  }
 ],
 "metadata": {
  "kernelspec": {
   "display_name": "Python 3",
   "language": "python",
   "name": "python3"
  },
  "language_info": {
   "codemirror_mode": {
    "name": "ipython",
    "version": 3
   },
   "file_extension": ".py",
   "mimetype": "text/x-python",
   "name": "python",
   "nbconvert_exporter": "python",
   "pygments_lexer": "ipython3",
   "version": "3.8.5"
  }
 },
 "nbformat": 4,
 "nbformat_minor": 5
}
