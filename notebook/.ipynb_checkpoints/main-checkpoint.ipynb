{
 "cells": [
  {
   "cell_type": "markdown",
   "metadata": {},
   "source": [
    "# Testing Notebook"
   ]
  },
  {
   "cell_type": "markdown",
   "metadata": {},
   "source": [
    "https://data.sfgov.org/Public-Safety/Police-Department-Incident-Reports-2018-to-Present/wg3w-h783\n",
    "https://data.sfgov.org/profile/edit/developer_settings\n",
    "https://dev.socrata.com/foundry/data.sfgov.org/wg3w-h783"
   ]
  },
  {
   "cell_type": "markdown",
   "metadata": {},
   "source": [
    "# Importing Packages"
   ]
  },
  {
   "cell_type": "code",
   "execution_count": 311,
   "metadata": {},
   "outputs": [],
   "source": [
    "import pandas as pd\n",
    "from sodapy import Socrata\n",
    "import folium\n",
    "import json\n",
    "import plotly.express as px\n",
    "\n",
    "import sys\n",
    "\n",
    "sys.path.append(\"..\")\n",
    "\n",
    "import src.config as config"
   ]
  },
  {
   "cell_type": "markdown",
   "metadata": {},
   "source": [
    "# Setting up the Client and Querying the Database"
   ]
  },
  {
   "cell_type": "code",
   "execution_count": 278,
   "metadata": {},
   "outputs": [],
   "source": [
    "# Example authenticated client (needed for non-public datasets):\n",
    "client = Socrata(\"data.sfgov.org\",\n",
    "                 config.api_key,\n",
    "                 username=config.username,\n",
    "                 password=config.password)"
   ]
  },
  {
   "cell_type": "code",
   "execution_count": 279,
   "metadata": {},
   "outputs": [],
   "source": [
    "# First 2000 results, returned as JSON from API / converted to Python list of\n",
    "# dictionaries by sodapy.\n",
    "results = client.get(\"wg3w-h783\", limit=15000, order=\"incident_date DESC\")"
   ]
  },
  {
   "cell_type": "markdown",
   "metadata": {},
   "source": [
    "# Processing the Response"
   ]
  },
  {
   "cell_type": "code",
   "execution_count": 599,
   "metadata": {},
   "outputs": [],
   "source": [
    "# Convert to pandas DataFrame\n",
    "results_df = pd.DataFrame.from_records(results)\n",
    "results_df['incident_datetime'] = pd.to_datetime(results_df['incident_datetime'])"
   ]
  },
  {
   "cell_type": "markdown",
   "metadata": {},
   "source": [
    "# Data Engineering - District Specific Information "
   ]
  },
  {
   "cell_type": "code",
   "execution_count": 600,
   "metadata": {},
   "outputs": [
    {
     "name": "stderr",
     "output_type": "stream",
     "text": [
      "/opt/anaconda3/envs/data_mining/lib/python3.7/site-packages/ipykernel_launcher.py:2: SettingWithCopyWarning:\n",
      "\n",
      "\n",
      "A value is trying to be set on a copy of a slice from a DataFrame.\n",
      "Try using .loc[row_indexer,col_indexer] = value instead\n",
      "\n",
      "See the caveats in the documentation: https://pandas.pydata.org/pandas-docs/stable/user_guide/indexing.html#returning-a-view-versus-a-copy\n",
      "\n",
      "/opt/anaconda3/envs/data_mining/lib/python3.7/site-packages/ipykernel_launcher.py:3: SettingWithCopyWarning:\n",
      "\n",
      "\n",
      "A value is trying to be set on a copy of a slice from a DataFrame.\n",
      "Try using .loc[row_indexer,col_indexer] = value instead\n",
      "\n",
      "See the caveats in the documentation: https://pandas.pydata.org/pandas-docs/stable/user_guide/indexing.html#returning-a-view-versus-a-copy\n",
      "\n"
     ]
    }
   ],
   "source": [
    "district_df = results_df[[\"incident_datetime\", \"police_district\"]]\n",
    "district_df[\"Count\"] = 1\n",
    "district_df[\"incident_datetime\"] = district_df.incident_datetime.dt.date\n",
    "district_df = district_df.groupby(['incident_datetime','police_district'], as_index=False)['Count'].sum()\n",
    "district_df.incident_datetime = district_df.incident_datetime.astype(str)"
   ]
  },
  {
   "cell_type": "markdown",
   "metadata": {},
   "source": [
    "# Data Engineering - All SF Information"
   ]
  },
  {
   "cell_type": "code",
   "execution_count": 601,
   "metadata": {},
   "outputs": [
    {
     "name": "stderr",
     "output_type": "stream",
     "text": [
      "/opt/anaconda3/envs/data_mining/lib/python3.7/site-packages/ipykernel_launcher.py:2: SettingWithCopyWarning:\n",
      "\n",
      "\n",
      "A value is trying to be set on a copy of a slice from a DataFrame.\n",
      "Try using .loc[row_indexer,col_indexer] = value instead\n",
      "\n",
      "See the caveats in the documentation: https://pandas.pydata.org/pandas-docs/stable/user_guide/indexing.html#returning-a-view-versus-a-copy\n",
      "\n"
     ]
    }
   ],
   "source": [
    "total_df = results_df[[\"incident_datetime\"]]\n",
    "total_df[\"Count\"] = 1\n",
    "total_df = total_df.groupby(total_df.incident_datetime.dt.date)[['Count']].sum()\n",
    "total_df = total_df.iloc[1:]\n",
    "total_df = total_df.reset_index()\n",
    "total_df.incident_datetime = total_df.incident_datetime.astype(str)"
   ]
  },
  {
   "cell_type": "code",
   "execution_count": 602,
   "metadata": {},
   "outputs": [],
   "source": [
    "# Getting the average\n",
    "mean = total_df.rolling(5).mean().fillna(method=\"backfill\")"
   ]
  },
  {
   "cell_type": "code",
   "execution_count": 603,
   "metadata": {},
   "outputs": [],
   "source": [
    "d = datetime.strptime(total_df.incident_datetime.values[-1].replace(\"-\", \"/\"), \"%Y/%m/%d\")"
   ]
  },
  {
   "cell_type": "code",
   "execution_count": 604,
   "metadata": {},
   "outputs": [],
   "source": [
    "rng = pd.date_range(d, periods=3, freq='d')\n",
    "rng = pd.to_datetime(rng, format='%Y%m%d')\n",
    "to_append = pd.DataFrame({'incident_datetime': rng}) \n",
    "to_append[\"incident_datetime\"] = to_append.incident_datetime.dt.date\n",
    "to_append = to_append.iloc[1:]"
   ]
  },
  {
   "cell_type": "code",
   "execution_count": 605,
   "metadata": {
    "scrolled": true
   },
   "outputs": [],
   "source": [
    "total_df = total_df.append(to_append).fillna(\"null\")"
   ]
  },
  {
   "cell_type": "code",
   "execution_count": 606,
   "metadata": {},
   "outputs": [],
   "source": [
    "total_df.incident_datetime = total_df.incident_datetime.astype(str)"
   ]
  },
  {
   "cell_type": "code",
   "execution_count": 607,
   "metadata": {},
   "outputs": [],
   "source": [
    "mean = list(mean.Count.values)\n",
    "mean.extend(to_append.shape[0] * [\"null\"])"
   ]
  },
  {
   "cell_type": "markdown",
   "metadata": {},
   "source": [
    "# Modifying Template to Updated index.html"
   ]
  },
  {
   "cell_type": "code",
   "execution_count": 608,
   "metadata": {},
   "outputs": [],
   "source": [
    "# Read in the file\n",
    "with open('../template.html', 'r') as file :\n",
    "    filedata = file.read()"
   ]
  },
  {
   "cell_type": "code",
   "execution_count": 609,
   "metadata": {},
   "outputs": [],
   "source": [
    "filedata = filedata.replace('          labels: [], // INCLUDE X AXIS DATES', \n",
    "                            '          labels: {}, // INCLUDE X AXIS DATES'.format(\n",
    "                                list(total_df.incident_datetime.values)))"
   ]
  },
  {
   "cell_type": "code",
   "execution_count": 610,
   "metadata": {},
   "outputs": [],
   "source": [
    "filedata = filedata.replace('            data: [], // Total', \n",
    "                            '            data: {}, // Total'.format(\n",
    "                                list(total_df.Count.values)))"
   ]
  },
  {
   "cell_type": "code",
   "execution_count": 611,
   "metadata": {},
   "outputs": [],
   "source": [
    "filedata = filedata.replace('            data: [], // Average', \n",
    "                            '            data: {}, // Average'.format(\n",
    "                                mean))"
   ]
  },
  {
   "cell_type": "code",
   "execution_count": 612,
   "metadata": {},
   "outputs": [],
   "source": [
    "for i in district_df.police_district.unique():\n",
    "    if i != \"Out of SF\":\n",
    "        district_info = district_df[district_df.police_district == i]\n",
    "        filedata = filedata.replace('            data: [], // {}'.format(i), \n",
    "                                    '            data: {}, // {}'.format(list(district_info.Count.values), i))"
   ]
  },
  {
   "cell_type": "code",
   "execution_count": 613,
   "metadata": {},
   "outputs": [],
   "source": [
    "# Write the file out again\n",
    "with open('../index.html', 'w') as file:\n",
    "    file.write(filedata)"
   ]
  },
  {
   "cell_type": "code",
   "execution_count": 614,
   "metadata": {},
   "outputs": [],
   "source": [
    "to_show = results_df.copy()\n",
    "\n",
    "to_show = to_show[[\"incident_datetime\", \"police_district\", \"incident_category\", \"incident_subcategory\", \n",
    "                   \"incident_description\", \"resolution\", \"intersection\"]]\n",
    "\n",
    "to_show.columns = [\"Incident Date\", \"District\", \"Incident Category\", \"Subcategory\", \"Description\", \"Resolution\", \"Intersection\"]\n",
    "\n",
    "to_show.head(5).to_html(open('../table.html', 'w'), classes=\"table\", border=0, index=False, justify=\"center\")"
   ]
  },
  {
   "cell_type": "code",
   "execution_count": 615,
   "metadata": {},
   "outputs": [],
   "source": [
    "with open(\"../index.html\", \"r\") as f1:\n",
    "    t1 = f1.readlines()\n",
    "with open(\"../table.html\", \"r\") as f2:\n",
    "    t2 = f2.readlines()\n",
    "\n",
    "initial = 70\n",
    "for i in range(0,len(t2)):\n",
    "    t1.insert(initial, t2[i])\n",
    "    initial = initial + 1\n",
    "\n",
    "with open(\"../index.html\", \"w\") as f2:\n",
    "    f2.writelines(t1)"
   ]
  },
  {
   "cell_type": "code",
   "execution_count": 616,
   "metadata": {},
   "outputs": [],
   "source": [
    "with open('../index.html','r') as file:\n",
    "    filedata = file.read()\n",
    "    filedata = filedata.replace('  <thead>','  <thead class=\"thead-dark\">')\n",
    "with open('../index.html','w') as file:\n",
    "    file.write(filedata)"
   ]
  },
  {
   "cell_type": "markdown",
   "metadata": {},
   "source": [
    "# Resampling Main Response for 1 Week Average Data"
   ]
  },
  {
   "cell_type": "code",
   "execution_count": 617,
   "metadata": {},
   "outputs": [
    {
     "name": "stderr",
     "output_type": "stream",
     "text": [
      "/opt/anaconda3/envs/data_mining/lib/python3.7/site-packages/ipykernel_launcher.py:2: SettingWithCopyWarning:\n",
      "\n",
      "\n",
      "A value is trying to be set on a copy of a slice from a DataFrame.\n",
      "Try using .loc[row_indexer,col_indexer] = value instead\n",
      "\n",
      "See the caveats in the documentation: https://pandas.pydata.org/pandas-docs/stable/user_guide/indexing.html#returning-a-view-versus-a-copy\n",
      "\n"
     ]
    }
   ],
   "source": [
    "avg_district_df = results_df[[\"incident_datetime\", \"police_district\"]]\n",
    "avg_district_df[\"Count\"] = 1\n",
    "avg_district_df = avg_district_df.set_index(avg_district_df[\"incident_datetime\"]).drop(columns=[\"incident_datetime\"])\n",
    "avg_district_df = avg_district_df.groupby('police_district').resample('1w').sum()\n",
    "avg_district_df = avg_district_df.reset_index()"
   ]
  },
  {
   "cell_type": "code",
   "execution_count": 618,
   "metadata": {},
   "outputs": [],
   "source": [
    "latest = pd.DataFrame(columns=avg_district_df.columns)\n",
    "\n",
    "for i in avg_district_df.police_district.unique():\n",
    "    latest = latest.append(avg_district_df[avg_district_df.police_district == i].iloc[[-2]])\n",
    "\n",
    "latest = latest[[\"police_district\", \"Count\"]]\n",
    "latest.columns = [\"Neighborhood\", \"Count\"]\n",
    "latest.Neighborhood = latest.Neighborhood.apply(lambda x: x.upper())\n",
    "latest.Count = latest.Count.astype(int)"
   ]
  },
  {
   "cell_type": "markdown",
   "metadata": {},
   "source": [
    "# Processing GeoJson"
   ]
  },
  {
   "cell_type": "code",
   "execution_count": 619,
   "metadata": {},
   "outputs": [],
   "source": [
    "# San Francisco latitude and longitude values\n",
    "latitude = 37.77\n",
    "longitude = -122.42\n",
    "\n",
    "with open(\"../src/sf.geojson\") as f:\n",
    "    data = json.load(f)\n",
    "\n",
    "for i in range(0,len(data[\"features\"])):\n",
    "    copy_dict = data[\"features\"][i]\n",
    "    copy_dict[\"id\"] = copy_dict[\"properties\"][\"DISTRICT\"]\n",
    "    data[\"features\"][i] = copy_dict"
   ]
  },
  {
   "cell_type": "markdown",
   "metadata": {},
   "source": [
    "# Creating Plotly Chloropleth Map"
   ]
  },
  {
   "cell_type": "code",
   "execution_count": 620,
   "metadata": {},
   "outputs": [],
   "source": [
    "fig = px.choropleth_mapbox(latest, geojson=data, locations='Neighborhood', color='Count',\n",
    "                           color_continuous_scale=\"Turbo\",\n",
    "                           range_color=(0, latest.Count.max()),\n",
    "                           mapbox_style=\"carto-positron\",\n",
    "                           zoom=11, center = {\"lat\": latitude, \"lon\": longitude},\n",
    "                           opacity=0.5,\n",
    "                           labels={\"Count\":\"Weekly Crime Rate\"}\n",
    "                          )\n",
    "fig.update_layout(margin={\"r\":0,\"t\":0,\"l\":0,\"b\":0})\n",
    "fig.write_html(\"../plotly_map.html\")"
   ]
  },
  {
   "cell_type": "markdown",
   "metadata": {},
   "source": [
    "# Creating Plotly Bar Plot"
   ]
  },
  {
   "cell_type": "code",
   "execution_count": 621,
   "metadata": {},
   "outputs": [],
   "source": [
    "results_df[\"Count\"] = 1"
   ]
  },
  {
   "cell_type": "code",
   "execution_count": 622,
   "metadata": {},
   "outputs": [],
   "source": [
    "incident_category = results_df.groupby(\"incident_category\")[[\"Count\"]].sum().reset_index().sort_values(by=\"Count\", ascending=False).head(10)"
   ]
  },
  {
   "cell_type": "code",
   "execution_count": 623,
   "metadata": {},
   "outputs": [],
   "source": [
    "fig = px.bar(incident_category, x='incident_category', y='Count', \n",
    "             labels={\"incident_category\":\"Incident Category\"}, color=\"Count\", opacity=1.0)\n",
    "fig.update_layout(margin={\"r\":0,\"t\":40,\"l\":0,\"b\":0})\n",
    "fig.update_layout({'plot_bgcolor': 'rgba(0, 0, 0, 0)', 'paper_bgcolor': 'rgba(0, 0, 0, 0)'})\n",
    "fig.write_html(\"../incident_category.html\")"
   ]
  },
  {
   "cell_type": "markdown",
   "metadata": {},
   "source": [
    "# ML"
   ]
  },
  {
   "cell_type": "code",
   "execution_count": 624,
   "metadata": {},
   "outputs": [],
   "source": [
    "# results_ml = client.get(\"wg3w-h783\", limit=500000, order=\"incident_date DESC\")"
   ]
  },
  {
   "cell_type": "code",
   "execution_count": 662,
   "metadata": {},
   "outputs": [],
   "source": [
    "# df = pd.DataFrame.from_records(results_ml)"
   ]
  },
  {
   "cell_type": "code",
   "execution_count": 664,
   "metadata": {},
   "outputs": [],
   "source": [
    "df = pd.read_csv(\"sfpd_reports.csv\")"
   ]
  },
  {
   "cell_type": "code",
   "execution_count": 626,
   "metadata": {},
   "outputs": [],
   "source": [
    "# df.to_csv(\"sfpd_reports.csv\", index=False)"
   ]
  },
  {
   "cell_type": "code",
   "execution_count": 627,
   "metadata": {},
   "outputs": [],
   "source": [
    "df['incident_datetime'] = pd.to_datetime(df['incident_datetime'])\n",
    "\n",
    "df = df[~df['incident_category'].isnull()]\n",
    "df = df[~df['latitude'].isnull()]\n",
    "df = df[~df['police_district'].isnull()]\n",
    "\n",
    "df = df[[\"incident_datetime\", \"incident_day_of_week\", \"police_district\", \"incident_category\"]]"
   ]
  },
  {
   "cell_type": "code",
   "execution_count": 628,
   "metadata": {},
   "outputs": [],
   "source": [
    "group_by_pd = df.copy()\n",
    "group_by_pd[\"Count\"] = 1\n",
    "group_by_pd = group_by_pd.set_index(group_by_pd[\"incident_datetime\"]).drop(columns=[\"incident_datetime\"])\n",
    "group_by_pd = group_by_pd.groupby(['police_district']).resample('1D').sum()\n",
    "group_by_pd = group_by_pd.reset_index()"
   ]
  },
  {
   "cell_type": "code",
   "execution_count": 647,
   "metadata": {},
   "outputs": [],
   "source": [
    "X = group_by_pd.copy()"
   ]
  },
  {
   "cell_type": "markdown",
   "metadata": {},
   "source": [
    "# Feature engineering"
   ]
  },
  {
   "cell_type": "code",
   "execution_count": 648,
   "metadata": {},
   "outputs": [],
   "source": [
    "X = pd.concat([X, pd.get_dummies(X[\"police_district\"])], axis=1).drop(columns=[\"police_district\"])"
   ]
  },
  {
   "cell_type": "code",
   "execution_count": 649,
   "metadata": {},
   "outputs": [],
   "source": [
    "# X['year'] = pd.to_datetime(X['incident_datetime']).dt.year\n",
    "X['month'] = pd.to_datetime(X['incident_datetime']).dt.month\n",
    "X['day'] = pd.to_datetime(X['incident_datetime']).dt.day"
   ]
  },
  {
   "cell_type": "code",
   "execution_count": 650,
   "metadata": {},
   "outputs": [],
   "source": [
    "X = X.iloc[:-10]"
   ]
  },
  {
   "cell_type": "code",
   "execution_count": 651,
   "metadata": {},
   "outputs": [],
   "source": [
    "y = X[[\"Count\"]]\n",
    "X = X.drop(['incident_datetime', \"Count\"], axis=1)"
   ]
  },
  {
   "cell_type": "markdown",
   "metadata": {},
   "source": [
    "# Using DT"
   ]
  },
  {
   "cell_type": "code",
   "execution_count": 652,
   "metadata": {},
   "outputs": [
    {
     "data": {
      "text/plain": [
       "DecisionTreeRegressor(ccp_alpha=0.0, criterion='mse', max_depth=None,\n",
       "                      max_features=None, max_leaf_nodes=None,\n",
       "                      min_impurity_decrease=0.0, min_impurity_split=None,\n",
       "                      min_samples_leaf=1, min_samples_split=2,\n",
       "                      min_weight_fraction_leaf=0.0, presort='deprecated',\n",
       "                      random_state=None, splitter='best')"
      ]
     },
     "execution_count": 652,
     "metadata": {},
     "output_type": "execute_result"
    }
   ],
   "source": [
    "from sklearn.tree import DecisionTreeRegressor\n",
    "\n",
    "regr_1 = DecisionTreeRegressor()\n",
    "regr_1.fit(X, y)"
   ]
  },
  {
   "cell_type": "code",
   "execution_count": 653,
   "metadata": {},
   "outputs": [],
   "source": [
    "pd_districts = ['Bayview', 'Central', 'Ingleside', 'Mission', 'Northern', \n",
    "                'Out of SF', 'Park', 'Richmond', 'Southern', 'Taraval', \n",
    "                'Tenderloin']"
   ]
  },
  {
   "cell_type": "code",
   "execution_count": 654,
   "metadata": {},
   "outputs": [],
   "source": [
    "from datetime import datetime, timedelta"
   ]
  },
  {
   "cell_type": "code",
   "execution_count": 655,
   "metadata": {},
   "outputs": [],
   "source": [
    "d = datetime.today() - timedelta(days=10)"
   ]
  },
  {
   "cell_type": "code",
   "execution_count": 656,
   "metadata": {},
   "outputs": [],
   "source": [
    "rng = pd.date_range(d, periods=10+2, freq='d')\n",
    "rng = pd.to_datetime(rng, format='%Y%m%d')\n",
    "\n",
    "dates_to_query = pd.DataFrame({ 'Date': rng}) \n",
    "dates_to_query[\"year\"] = dates_to_query.Date.dt.year\n",
    "dates_to_query[\"day\"] = dates_to_query.Date.dt.day\n",
    "dates_to_query[\"month\"] = dates_to_query.Date.dt.month\n",
    "dates_to_query[\"Date\"] = dates_to_query.Date.dt.date"
   ]
  },
  {
   "cell_type": "code",
   "execution_count": 657,
   "metadata": {},
   "outputs": [],
   "source": [
    "predictions_dates = dates_to_query.Date.astype(str).values"
   ]
  },
  {
   "cell_type": "code",
   "execution_count": 658,
   "metadata": {},
   "outputs": [],
   "source": [
    "def get_prediction_for_dates_df(model, dates):\n",
    "    for i in pd_districts:\n",
    "        testing = pd.DataFrame(columns=X.columns)\n",
    "        data = pd.DataFrame({i: 1, \n",
    "#                              \"year\":dates.year.values, \n",
    "                             \"month\":dates.month.values, \n",
    "                             \"day\":dates.day.values})\n",
    "        testing = testing.append(data).fillna(0)\n",
    "        y = model.predict(testing)\n",
    "        dates[i] = y.astype(int)\n",
    "    return dates"
   ]
  },
  {
   "cell_type": "code",
   "execution_count": 659,
   "metadata": {},
   "outputs": [],
   "source": [
    "dates_to_query = get_prediction_for_dates_df(regr_1, dates_to_query)\n",
    "dates_to_query[\"total_crime_rate\"] = dates_to_query.iloc[:, 4:].sum(axis=1)\n",
    "dates_to_query = dates_to_query[[\"Date\", \"total_crime_rate\"]]\n",
    "dates_to_query.columns = [\"incident_datetime\", \"tcr\"]\n",
    "dates_to_query.incident_datetime = dates_to_query.incident_datetime.astype(str)\n",
    "\n",
    "\n",
    "ai_predictions = total_df[[\"incident_datetime\"]].iloc[:-2]\n",
    "ai_predictions = pd.merge(ai_predictions, dates_to_query, on=\"incident_datetime\", how=\"outer\").fillna(\"null\")"
   ]
  },
  {
   "cell_type": "code",
   "execution_count": 660,
   "metadata": {},
   "outputs": [],
   "source": [
    "ai_predictions.loc[ai_predictions.index[50-11], 'tcr'] = total_df.loc[total_df.index[50-11], 'Count']"
   ]
  },
  {
   "cell_type": "code",
   "execution_count": 643,
   "metadata": {},
   "outputs": [],
   "source": [
    "# Read in the file\n",
    "with open('../index.html', 'r') as file :\n",
    "    filedata = file.read()\n",
    "    \n",
    "filedata = filedata.replace('            data: [], // AI', \n",
    "                            '            data: {}, // AI'.format(\n",
    "                                list(ai_predictions.tcr.values)))\n",
    "\n",
    "# Write the file out again\n",
    "with open('../index.html', 'w') as file:\n",
    "    file.write(filedata)"
   ]
  },
  {
   "cell_type": "code",
   "execution_count": null,
   "metadata": {},
   "outputs": [],
   "source": []
  },
  {
   "cell_type": "code",
   "execution_count": null,
   "metadata": {},
   "outputs": [],
   "source": []
  }
 ],
 "metadata": {
  "kernelspec": {
   "display_name": "Python 3",
   "language": "python",
   "name": "python3"
  },
  "language_info": {
   "codemirror_mode": {
    "name": "ipython",
    "version": 3
   },
   "file_extension": ".py",
   "mimetype": "text/x-python",
   "name": "python",
   "nbconvert_exporter": "python",
   "pygments_lexer": "ipython3",
   "version": "3.7.9"
  }
 },
 "nbformat": 4,
 "nbformat_minor": 4
}
