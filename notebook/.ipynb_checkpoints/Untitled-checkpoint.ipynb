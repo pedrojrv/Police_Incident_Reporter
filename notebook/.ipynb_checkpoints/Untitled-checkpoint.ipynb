{
 "cells": [
  {
   "cell_type": "code",
   "execution_count": 1,
   "metadata": {},
   "outputs": [],
   "source": [
    "import pandas as pd\n",
    "from sodapy import Socrata\n",
    "import json\n",
    "import sys\n",
    "sys.path.append(\"..\")\n",
    "\n",
    "# The config file is hidden since it contains the api key \n",
    "# needed to get data from the sfpd database\n",
    "import src.config as config"
   ]
  },
  {
   "cell_type": "code",
   "execution_count": 2,
   "metadata": {},
   "outputs": [],
   "source": [
    "client = Socrata(\"data.sfgov.org\",\n",
    "                 config.api_key,\n",
    "                 username=config.username,\n",
    "                 password=config.password)"
   ]
  },
  {
   "cell_type": "code",
   "execution_count": null,
   "metadata": {},
   "outputs": [],
   "source": [
    "\"fjki-2fab\""
   ]
  },
  {
   "cell_type": "code",
   "execution_count": 4,
   "metadata": {},
   "outputs": [],
   "source": [
    "all_datasets = client.datasets()"
   ]
  },
  {
   "cell_type": "code",
   "execution_count": 13,
   "metadata": {},
   "outputs": [],
   "source": [
    "names = []\n",
    "ids = []\n",
    "\n",
    "for i in all_datasets:\n",
    "    names.append(i[\"resource\"][\"name\"])\n",
    "    ids.append(i[\"resource\"][\"id\"])"
   ]
  },
  {
   "cell_type": "code",
   "execution_count": 15,
   "metadata": {},
   "outputs": [],
   "source": [
    "datasets = pd.DataFrame({\"name\":names, \"dataset_id\":ids})"
   ]
  },
  {
   "cell_type": "code",
   "execution_count": 16,
   "metadata": {},
   "outputs": [
    {
     "data": {
      "text/html": [
       "<div>\n",
       "<style scoped>\n",
       "    .dataframe tbody tr th:only-of-type {\n",
       "        vertical-align: middle;\n",
       "    }\n",
       "\n",
       "    .dataframe tbody tr th {\n",
       "        vertical-align: top;\n",
       "    }\n",
       "\n",
       "    .dataframe thead th {\n",
       "        text-align: right;\n",
       "    }\n",
       "</style>\n",
       "<table border=\"1\" class=\"dataframe\">\n",
       "  <thead>\n",
       "    <tr style=\"text-align: right;\">\n",
       "      <th></th>\n",
       "      <th>name</th>\n",
       "      <th>dataset_id</th>\n",
       "    </tr>\n",
       "  </thead>\n",
       "  <tbody>\n",
       "    <tr>\n",
       "      <th>0</th>\n",
       "      <td>San Francisco COVID-19 Data and Reports</td>\n",
       "      <td>fjki-2fab</td>\n",
       "    </tr>\n",
       "    <tr>\n",
       "      <th>1</th>\n",
       "      <td>COVID-19 Cases and Deaths</td>\n",
       "      <td>dak2-gvuj</td>\n",
       "    </tr>\n",
       "    <tr>\n",
       "      <th>2</th>\n",
       "      <td>Key Health Indicators on Containing COVID-19</td>\n",
       "      <td>epem-wyzb</td>\n",
       "    </tr>\n",
       "    <tr>\n",
       "      <th>3</th>\n",
       "      <td>Maps of COVID-19 Cases</td>\n",
       "      <td>adm5-wq8i</td>\n",
       "    </tr>\n",
       "    <tr>\n",
       "      <th>4</th>\n",
       "      <td>COVID-19 Hospitalizations</td>\n",
       "      <td>wmxr-upyn</td>\n",
       "    </tr>\n",
       "    <tr>\n",
       "      <th>...</th>\n",
       "      <td>...</td>\n",
       "      <td>...</td>\n",
       "    </tr>\n",
       "    <tr>\n",
       "      <th>1086</th>\n",
       "      <td>Article 11 Rating</td>\n",
       "      <td>ee6v-jtbt</td>\n",
       "    </tr>\n",
       "    <tr>\n",
       "      <th>1087</th>\n",
       "      <td>Campaign Consultants - Political Contributions...</td>\n",
       "      <td>352f-scqh</td>\n",
       "    </tr>\n",
       "    <tr>\n",
       "      <th>1088</th>\n",
       "      <td>Historic Resources</td>\n",
       "      <td>jfw5-qwcg</td>\n",
       "    </tr>\n",
       "    <tr>\n",
       "      <th>1089</th>\n",
       "      <td>MOHCD - Lead Mediation Grant Program</td>\n",
       "      <td>9rsc-vp8d</td>\n",
       "    </tr>\n",
       "    <tr>\n",
       "      <th>1090</th>\n",
       "      <td>Campaign Finance Logo</td>\n",
       "      <td>xgky-5f3w</td>\n",
       "    </tr>\n",
       "  </tbody>\n",
       "</table>\n",
       "<p>1091 rows × 2 columns</p>\n",
       "</div>"
      ],
      "text/plain": [
       "                                                   name dataset_id\n",
       "0               San Francisco COVID-19 Data and Reports  fjki-2fab\n",
       "1                             COVID-19 Cases and Deaths  dak2-gvuj\n",
       "2          Key Health Indicators on Containing COVID-19  epem-wyzb\n",
       "3                                Maps of COVID-19 Cases  adm5-wq8i\n",
       "4                             COVID-19 Hospitalizations  wmxr-upyn\n",
       "...                                                 ...        ...\n",
       "1086                                  Article 11 Rating  ee6v-jtbt\n",
       "1087  Campaign Consultants - Political Contributions...  352f-scqh\n",
       "1088                                 Historic Resources  jfw5-qwcg\n",
       "1089               MOHCD - Lead Mediation Grant Program  9rsc-vp8d\n",
       "1090                              Campaign Finance Logo  xgky-5f3w\n",
       "\n",
       "[1091 rows x 2 columns]"
      ]
     },
     "execution_count": 16,
     "metadata": {},
     "output_type": "execute_result"
    }
   ],
   "source": [
    "datasets"
   ]
  },
  {
   "cell_type": "code",
   "execution_count": 26,
   "metadata": {},
   "outputs": [],
   "source": [
    "results = client.get(\n",
    "    \"wg3w-h783\", \n",
    "    limit=15000, \n",
    "    order=\"incident_date DESC\",\n",
    "    select=\"*\",\n",
    "    # group=\"police_district\"\n",
    ")"
   ]
  },
  {
   "cell_type": "code",
   "execution_count": 27,
   "metadata": {},
   "outputs": [
    {
     "data": {
      "text/plain": [
       "15000"
      ]
     },
     "execution_count": 27,
     "metadata": {},
     "output_type": "execute_result"
    }
   ],
   "source": [
    "len(results)"
   ]
  },
  {
   "cell_type": "code",
   "execution_count": null,
   "metadata": {},
   "outputs": [],
   "source": []
  }
 ],
 "metadata": {
  "kernelspec": {
   "display_name": "Python 3",
   "language": "python",
   "name": "python3"
  },
  "language_info": {
   "codemirror_mode": {
    "name": "ipython",
    "version": 3
   },
   "file_extension": ".py",
   "mimetype": "text/x-python",
   "name": "python",
   "nbconvert_exporter": "python",
   "pygments_lexer": "ipython3",
   "version": "3.7.9"
  }
 },
 "nbformat": 4,
 "nbformat_minor": 4
}
